{
 "cells": [
  {
   "cell_type": "code",
   "execution_count": 105,
   "id": "bd17d290",
   "metadata": {},
   "outputs": [],
   "source": [
    "import pandas as pd\n",
    "import numpy as np\n",
    "from sklearn.preprocessing import StandardScaler"
   ]
  },
  {
   "cell_type": "code",
   "execution_count": 94,
   "id": "454b214e",
   "metadata": {},
   "outputs": [],
   "source": [
    "url = 'https://drive.google.com/file/d/1kM__riNHRPx5GsyuOH3yhiql3OZvwmuP/view?usp=sharing'\n",
    "path_tidy = 'https://drive.google.com/uc?export=download&id='+url.split('/')[-2]\n",
    "df = pd.read_csv(path_tidy)"
   ]
  },
  {
   "cell_type": "code",
   "execution_count": 152,
   "id": "ab4b262a",
   "metadata": {},
   "outputs": [],
   "source": [
    "from datetime import datetime as dt\n",
    "from datetime import timedelta \n",
    "def convert_to_float(X):\n",
    "    if X == \"Goal\":\n",
    "        return 1.0\n",
    "    else:\n",
    "        return 0.0\n",
    "def convert_to_total_seconds(X):\n",
    "    t_ = dt.strptime(X, '%M:%S')\n",
    "    delta = timedelta(minutes=t_.minute,seconds=t_.second)\n",
    "    return delta.total_seconds()\n",
    "\n",
    "def preprocess(df, features,standarize=False):\n",
    "    df_shuffled = df.copy()\n",
    " \n",
    "  \n",
    "    \n",
    "    df_shuffled['result_event']=df_shuffled['result_event'].apply(convert_to_float)\n",
    "    Y = df_shuffled['result_event']\n",
    "    \n",
    "    \n",
    "    \n",
    "    \n",
    "    df_shuffled[\"empty_net\"].fillna(False,inplace=True)\n",
    "    df_shuffled[\"empty_net\"]=df_shuffled[\"empty_net\"].map({True:1,False:0})\n",
    "    df_shuffled[\"rebound\"]=df_shuffled[\"rebound\"].map({True:1,False:0})\n",
    "    df_shuffled[\"strength\"].fillna(0.0,inplace=True)\n",
    "    \n",
    "    \n",
    "    \n",
    "    df_shuffled = df_shuffled[features]\n",
    "    df_shuffled = df_shuffled.dropna()\n",
    "    if 'periodTime' in features:\n",
    "        df_shuffled['periodTime']=df_shuffled['periodTime'].apply(convert_to_total_seconds)\n",
    "    \n",
    "    if 'shot_type' in features:\n",
    "        df_shuffled['shot_type'] = df_shuffled['shot_type'].dropna()\n",
    "        df_shuffled = pd.get_dummies(df_shuffled,columns=['shot_type'])    \n",
    "        \n",
    "    if 'last_event_type' in features:\n",
    "        df_shuffled = pd.get_dummies(df_shuffled,columns=['last_event_type'])\n",
    "    \n",
    "    X = df_shuffled\n",
    "    if standarize:\n",
    "        scaler = StandardScaler()\n",
    "        X = scaler.fit_transform(X)\n",
    "    \n",
    "    return X, Y.values,df_shuffled\n"
   ]
  },
  {
   "cell_type": "code",
   "execution_count": 153,
   "id": "7f734b67",
   "metadata": {},
   "outputs": [],
   "source": [
    "list_features = ['empty_net', 'periodTime','period', 'x_coord', 'y_coord','distance','angle','shot_type',\\\n",
    "    'last_event_type', 'last_x_coord', 'last_y_coord','distance_from_last', 'seconds_since_last', \\\n",
    "        'rebound', 'angle_change','speed']\n",
    "\n",
    "X, Y ,df_ =  preprocess(df,list_features,True)"
   ]
  },
  {
   "cell_type": "code",
   "execution_count": 154,
   "id": "e8e1c4ff",
   "metadata": {},
   "outputs": [
    {
     "data": {
      "text/plain": [
       "0"
      ]
     },
     "execution_count": 154,
     "metadata": {},
     "output_type": "execute_result"
    }
   ],
   "source": [
    "df_.isna().sum().sum()"
   ]
  },
  {
   "cell_type": "code",
   "execution_count": 155,
   "id": "94982b6e",
   "metadata": {},
   "outputs": [
    {
     "data": {
      "text/plain": [
       "400554"
      ]
     },
     "execution_count": 155,
     "metadata": {},
     "output_type": "execute_result"
    }
   ],
   "source": [
    "len(df_)"
   ]
  },
  {
   "cell_type": "code",
   "execution_count": 149,
   "id": "49c760d3",
   "metadata": {},
   "outputs": [
    {
     "name": "stdout",
     "output_type": "stream",
     "text": [
      "   empty_net  periodTime  period  x_coord  y_coord  distance  angle  \\\n",
      "0      False       False   False    False    False     False  False   \n",
      "1      False       False   False    False    False     False  False   \n",
      "2      False       False   False    False    False     False  False   \n",
      "3      False       False   False    False    False     False  False   \n",
      "4      False       False   False    False    False     False  False   \n",
      "\n",
      "   last_x_coord  last_y_coord  distance_from_last  ...  \\\n",
      "0         False         False               False  ...   \n",
      "1         False         False               False  ...   \n",
      "2         False         False               False  ...   \n",
      "3         False         False               False  ...   \n",
      "4         False         False               False  ...   \n",
      "\n",
      "   last_event_type_Official Challenge  last_event_type_Penalty  \\\n",
      "0                               False                    False   \n",
      "1                               False                    False   \n",
      "2                               False                    False   \n",
      "3                               False                    False   \n",
      "4                               False                    False   \n",
      "\n",
      "   last_event_type_Period End  last_event_type_Period Official  \\\n",
      "0                       False                            False   \n",
      "1                       False                            False   \n",
      "2                       False                            False   \n",
      "3                       False                            False   \n",
      "4                       False                            False   \n",
      "\n",
      "   last_event_type_Period Ready  last_event_type_Period Start  \\\n",
      "0                         False                         False   \n",
      "1                         False                         False   \n",
      "2                         False                         False   \n",
      "3                         False                         False   \n",
      "4                         False                         False   \n",
      "\n",
      "   last_event_type_Shootout Complete  last_event_type_Shot  \\\n",
      "0                              False                 False   \n",
      "1                              False                 False   \n",
      "2                              False                 False   \n",
      "3                              False                 False   \n",
      "4                              False                 False   \n",
      "\n",
      "   last_event_type_Stoppage  last_event_type_Takeaway  \n",
      "0                     False                     False  \n",
      "1                     False                     False  \n",
      "2                     False                     False  \n",
      "3                     False                     False  \n",
      "4                     False                     False  \n",
      "\n",
      "[5 rows x 38 columns]\n"
     ]
    },
    {
     "data": {
      "text/plain": [
       "['x_coord',\n",
       " 'y_coord',\n",
       " 'distance',\n",
       " 'angle',\n",
       " 'last_x_coord',\n",
       " 'last_y_coord',\n",
       " 'distance_from_last',\n",
       " 'speed']"
      ]
     },
     "execution_count": 149,
     "metadata": {},
     "output_type": "execute_result"
    }
   ],
   "source": [
    "print(df_.isna().head())\n",
    "df_.columns[df_.isna().any()].tolist()"
   ]
  },
  {
   "cell_type": "code",
   "execution_count": 132,
   "id": "9043c635",
   "metadata": {},
   "outputs": [
    {
     "data": {
      "text/plain": [
       "array([[-0.83343799,  0.67557622],\n",
       "       [-0.63635562, -0.85793878],\n",
       "       [ 2.07364637, -0.60743591],\n",
       "       ...,\n",
       "       [-1.20704035, -0.80085975],\n",
       "       [-1.0793159 , -0.90682568],\n",
       "       [-0.88923237, -0.43197777]])"
      ]
     },
     "execution_count": 132,
     "metadata": {},
     "output_type": "execute_result"
    }
   ],
   "source": [
    "from sklearn.feature_selection import VarianceThreshold\n",
    "sel = VarianceThreshold(threshold=(.8 * (1 - .8)))\n",
    "sel.fit_transform(X)"
   ]
  }
 ],
 "metadata": {
  "kernelspec": {
   "display_name": "ift6758-conda-env",
   "language": "python",
   "name": "ift6758-conda-env"
  },
  "language_info": {
   "codemirror_mode": {
    "name": "ipython",
    "version": 3
   },
   "file_extension": ".py",
   "mimetype": "text/x-python",
   "name": "python",
   "nbconvert_exporter": "python",
   "pygments_lexer": "ipython3",
   "version": "3.10.6"
  }
 },
 "nbformat": 4,
 "nbformat_minor": 5
}
