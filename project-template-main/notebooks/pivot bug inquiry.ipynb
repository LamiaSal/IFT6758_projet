{
 "cells": [
  {
   "cell_type": "code",
   "execution_count": 1,
   "id": "f258ee45",
   "metadata": {},
   "outputs": [],
   "source": [
    "import pandas as pd\n",
    "import numpy as np"
   ]
  },
  {
   "cell_type": "code",
   "execution_count": 2,
   "id": "11be4c4f",
   "metadata": {},
   "outputs": [],
   "source": [
    "df = pd.read_csv('../datasets/tidy_data.csv')"
   ]
  },
  {
   "cell_type": "code",
   "execution_count": 3,
   "id": "e485d337",
   "metadata": {},
   "outputs": [],
   "source": [
    " def pivot(x):\n",
    "        return -x"
   ]
  },
  {
   "cell_type": "code",
   "execution_count": 18,
   "id": "8963053e",
   "metadata": {},
   "outputs": [
    {
     "name": "stdout",
     "output_type": "stream",
     "text": [
      "39979\n",
      "40420\n"
     ]
    }
   ],
   "source": [
    "df_season = df[df[\"season\"]==20162017]\n",
    "print(len(df_season[df_season['rinkSide_of_the_team_that_shot']=='left']))\n",
    "print(len(df_season[df_season['rinkSide_of_the_team_that_shot']=='right']))"
   ]
  },
  {
   "cell_type": "code",
   "execution_count": 19,
   "id": "6b2607ff",
   "metadata": {},
   "outputs": [
    {
     "name": "stdout",
     "output_type": "stream",
     "text": [
      "39979\n",
      "40420\n"
     ]
    }
   ],
   "source": [
    "df_season.loc[(df_season['rinkSide_of_the_team_that_shot'].isna()) & (df_season['x_coord'] < 0),'rinkSide_of_the_team_that_shot'] =' right'\n",
    "df_season.loc[(df_season['rinkSide_of_the_team_that_shot'].isna()) & (df_season['x_coord'] > 0),'rinkSide_of_the_team_that_shot'] = 'left'\n",
    "\n",
    "print(len(df_season[df_season['rinkSide_of_the_team_that_shot']=='left']))\n",
    "print(len(df_season[df_season['rinkSide_of_the_team_that_shot']=='right']))"
   ]
  },
  {
   "cell_type": "code",
   "execution_count": 20,
   "id": "18c5ac6c",
   "metadata": {},
   "outputs": [
    {
     "name": "stdout",
     "output_type": "stream",
     "text": [
      "39943\n",
      "40421\n"
     ]
    }
   ],
   "source": [
    "print(len(df_season[df_season['x_coord']>0]))\n",
    "print(len(df_season[df_season['x_coord']<0]))"
   ]
  },
  {
   "cell_type": "code",
   "execution_count": 21,
   "id": "1a7e4211",
   "metadata": {},
   "outputs": [
    {
     "name": "stdout",
     "output_type": "stream",
     "text": [
      "1078\n",
      "79286\n"
     ]
    }
   ],
   "source": [
    "df_season.loc[df_season['rinkSide_of_the_team_that_shot']=='left','x_coord'] = df_season[df_season['rinkSide_of_the_team_that_shot']=='left']['x_coord'].apply(pivot)\n",
    "df_season.loc[df_season['rinkSide_of_the_team_that_shot']=='left','y_coord'] = df_season[df_season['rinkSide_of_the_team_that_shot']=='left']['y_coord'].apply(pivot)\n",
    "print(len(df_season[df_season['x_coord']>0]))\n",
    "print(len(df_season[df_season['x_coord']<0]))"
   ]
  },
  {
   "cell_type": "code",
   "execution_count": 32,
   "id": "285bb29b",
   "metadata": {},
   "outputs": [],
   "source": [
    "def rotate():\n",
    "    df = pd.read_csv('../datasets/tidy_data.csv')\n",
    "    seasons = [20162017,20172018,20182019,20192020,20202021]\n",
    "    for season in seasons:\n",
    "        print('Season:',season)\n",
    "        df_season = df[df[\"season\"]==season]\n",
    "        print('Before Pivot')\n",
    "        print('x>0:',len(df_season[df_season['x_coord']>0]))\n",
    "        print('x<0:',len(df_season[df_season['x_coord']<0]))\n",
    "       \n",
    "#         print('left:',len(df_season[df_season['rinkSide_of_the_team_that_shot']=='left']))\n",
    "#         print('Right:',len(df_season[df_season['rinkSide_of_the_team_that_shot']=='right']))\n",
    "        \n",
    "        df_season.loc[(df_season['rinkSide_of_the_team_that_shot'].isna()) & (df_season['x_coord'] < 0),'rinkSide_of_the_team_that_shot'] =' right'\n",
    "        df_season.loc[(df_season['rinkSide_of_the_team_that_shot'].isna()) & (df_season['x_coord'] > 0),'rinkSide_of_the_team_that_shot'] = 'left'\n",
    "#         print('pivot nan')\n",
    "#         print('left:',len(df_season[df_season['rinkSide_of_the_team_that_shot']=='left']))\n",
    "#         print('Right:',len(df_season[df_season['rinkSide_of_the_team_that_shot']=='right']))\n",
    "        \n",
    "        \n",
    "        print('After pivot')\n",
    "        df_season.loc[df_season['rinkSide_of_the_team_that_shot']=='left','x_coord'] = df_season[df_season['rinkSide_of_the_team_that_shot']=='left']['x_coord'].apply(pivot)\n",
    "        df_season.loc[df_season['rinkSide_of_the_team_that_shot']=='left','y_coord'] = df_season[df_season['rinkSide_of_the_team_that_shot']=='left']['y_coord'].apply(pivot)\n",
    "        print('x>0:',len(df_season[df_season['x_coord']>0]))\n",
    "        print('x<0:',len(df_season[df_season['x_coord']<0]))\n",
    "        print('')\n",
    "        \n",
    "        "
   ]
  },
  {
   "cell_type": "code",
   "execution_count": 33,
   "id": "a7135ba1",
   "metadata": {},
   "outputs": [
    {
     "name": "stdout",
     "output_type": "stream",
     "text": [
      "Season: 20162017\n",
      "Before Pivot\n",
      "x>0: 39943\n",
      "x<0: 40421\n",
      "After pivot\n",
      "x>0: 1078\n",
      "x<0: 79286\n",
      "\n",
      "Season: 20172018\n",
      "Before Pivot\n",
      "x>0: 43641\n",
      "x<0: 43441\n",
      "After pivot\n",
      "x>0: 2286\n",
      "x<0: 84796\n",
      "\n",
      "Season: 20182019\n",
      "Before Pivot\n",
      "x>0: 42774\n",
      "x<0: 43100\n",
      "After pivot\n",
      "x>0: 2551\n",
      "x<0: 83323\n",
      "\n",
      "Season: 20192020\n",
      "Before Pivot\n",
      "x>0: 36631\n",
      "x<0: 37175\n",
      "After pivot\n",
      "x>0: 4653\n",
      "x<0: 69153\n",
      "\n",
      "Season: 20202021\n",
      "Before Pivot\n",
      "x>0: 28645\n",
      "x<0: 29047\n",
      "After pivot\n",
      "x>0: 1443\n",
      "x<0: 56249\n",
      "\n"
     ]
    }
   ],
   "source": [
    "rotate()"
   ]
  }
 ],
 "metadata": {
  "kernelspec": {
   "display_name": "ift6758-conda-env",
   "language": "python",
   "name": "ift6758-conda-env"
  },
  "language_info": {
   "codemirror_mode": {
    "name": "ipython",
    "version": 3
   },
   "file_extension": ".py",
   "mimetype": "text/x-python",
   "name": "python",
   "nbconvert_exporter": "python",
   "pygments_lexer": "ipython3",
   "version": "3.10.6"
  }
 },
 "nbformat": 4,
 "nbformat_minor": 5
}
