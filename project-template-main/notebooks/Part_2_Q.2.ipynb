{
  "cells": [
    {
      "cell_type": "code",
      "execution_count": 1,
      "metadata": {
        "id": "HHNnj9JCI-5r"
      },
      "outputs": [],
      "source": [
        "# Imports\n",
        "import pandas as pd\n",
        "import numpy as np\n",
        "import matplotlib.pyplot as plt\n",
        "import seaborn as sns\n",
        "import warnings\n",
        "warnings.filterwarnings(\"ignore\")\n"
      ]
    },
    {
      "cell_type": "code",
      "execution_count": 2,
      "metadata": {
        "colab": {
          "base_uri": "https://localhost:8080/"
        },
        "id": "BB2pYr87SgPC",
        "outputId": "888b7f44-bae2-491c-9e74-072bca054823"
      },
      "outputs": [],
      "source": [
        "url = 'https://drive.google.com/file/d/1kM__riNHRPx5GsyuOH3yhiql3OZvwmuP/view?usp=sharing'\n",
        "path = 'https://drive.google.com/uc?export=download&id='+url.split('/')[-2]\n",
        "df = pd.read_csv(path)"
      ]
    },
    {
      "cell_type": "code",
      "execution_count": 3,
      "metadata": {
        "colab": {
          "base_uri": "https://localhost:8080/",
          "height": 661
        },
        "id": "kOW5j2LT8BKR",
        "outputId": "2922fe46-dd4b-47d9-f7a0-5414944e6b63"
      },
      "outputs": [
        {
          "data": {
            "text/html": [
              "<div>\n",
              "<style scoped>\n",
              "    .dataframe tbody tr th:only-of-type {\n",
              "        vertical-align: middle;\n",
              "    }\n",
              "\n",
              "    .dataframe tbody tr th {\n",
              "        vertical-align: top;\n",
              "    }\n",
              "\n",
              "    .dataframe thead th {\n",
              "        text-align: right;\n",
              "    }\n",
              "</style>\n",
              "<table border=\"1\" class=\"dataframe\">\n",
              "  <thead>\n",
              "    <tr style=\"text-align: right;\">\n",
              "      <th></th>\n",
              "      <th>event_Idx</th>\n",
              "      <th>period</th>\n",
              "      <th>periodTime</th>\n",
              "      <th>id_team_that_shot</th>\n",
              "      <th>name_team_that_shot</th>\n",
              "      <th>result_event</th>\n",
              "      <th>x_coord</th>\n",
              "      <th>y_coord</th>\n",
              "      <th>distance</th>\n",
              "      <th>angle</th>\n",
              "      <th>...</th>\n",
              "      <th>angle_change</th>\n",
              "      <th>speed</th>\n",
              "      <th>powerplay</th>\n",
              "      <th>team_that_shot_nb</th>\n",
              "      <th>other_team_nb</th>\n",
              "      <th>type_season</th>\n",
              "      <th>id_game</th>\n",
              "      <th>season</th>\n",
              "      <th>team_away_name</th>\n",
              "      <th>team_home_name</th>\n",
              "    </tr>\n",
              "  </thead>\n",
              "  <tbody>\n",
              "    <tr>\n",
              "      <th>0</th>\n",
              "      <td>9</td>\n",
              "      <td>1</td>\n",
              "      <td>01:27</td>\n",
              "      <td>13</td>\n",
              "      <td>Florida Panthers</td>\n",
              "      <td>Shot</td>\n",
              "      <td>-35.0</td>\n",
              "      <td>31.0</td>\n",
              "      <td>63.134776</td>\n",
              "      <td>-0.513252</td>\n",
              "      <td>...</td>\n",
              "      <td>0.000000</td>\n",
              "      <td>4.590146</td>\n",
              "      <td>0</td>\n",
              "      <td>5</td>\n",
              "      <td>5</td>\n",
              "      <td>playoffs</td>\n",
              "      <td>2015030111</td>\n",
              "      <td>20152016</td>\n",
              "      <td>New York Islanders</td>\n",
              "      <td>Florida Panthers</td>\n",
              "    </tr>\n",
              "    <tr>\n",
              "      <th>1</th>\n",
              "      <td>12</td>\n",
              "      <td>1</td>\n",
              "      <td>01:55</td>\n",
              "      <td>13</td>\n",
              "      <td>Florida Panthers</td>\n",
              "      <td>Goal</td>\n",
              "      <td>-78.0</td>\n",
              "      <td>5.0</td>\n",
              "      <td>13.000000</td>\n",
              "      <td>-0.394791</td>\n",
              "      <td>...</td>\n",
              "      <td>0.000000</td>\n",
              "      <td>0.712422</td>\n",
              "      <td>0</td>\n",
              "      <td>5</td>\n",
              "      <td>5</td>\n",
              "      <td>playoffs</td>\n",
              "      <td>2015030111</td>\n",
              "      <td>20152016</td>\n",
              "      <td>New York Islanders</td>\n",
              "      <td>Florida Panthers</td>\n",
              "    </tr>\n",
              "    <tr>\n",
              "      <th>2</th>\n",
              "      <td>14</td>\n",
              "      <td>1</td>\n",
              "      <td>02:06</td>\n",
              "      <td>13</td>\n",
              "      <td>Florida Panthers</td>\n",
              "      <td>Shot</td>\n",
              "      <td>-83.0</td>\n",
              "      <td>-20.0</td>\n",
              "      <td>21.189620</td>\n",
              "      <td>1.234122</td>\n",
              "      <td>...</td>\n",
              "      <td>0.000000</td>\n",
              "      <td>7.761422</td>\n",
              "      <td>0</td>\n",
              "      <td>5</td>\n",
              "      <td>5</td>\n",
              "      <td>playoffs</td>\n",
              "      <td>2015030111</td>\n",
              "      <td>20152016</td>\n",
              "      <td>New York Islanders</td>\n",
              "      <td>Florida Panthers</td>\n",
              "    </tr>\n",
              "    <tr>\n",
              "      <th>3</th>\n",
              "      <td>18</td>\n",
              "      <td>1</td>\n",
              "      <td>02:54</td>\n",
              "      <td>2</td>\n",
              "      <td>New York Islanders</td>\n",
              "      <td>Shot</td>\n",
              "      <td>48.0</td>\n",
              "      <td>25.0</td>\n",
              "      <td>48.877398</td>\n",
              "      <td>0.536911</td>\n",
              "      <td>...</td>\n",
              "      <td>0.000000</td>\n",
              "      <td>14.840822</td>\n",
              "      <td>0</td>\n",
              "      <td>5</td>\n",
              "      <td>5</td>\n",
              "      <td>playoffs</td>\n",
              "      <td>2015030111</td>\n",
              "      <td>20152016</td>\n",
              "      <td>New York Islanders</td>\n",
              "      <td>Florida Panthers</td>\n",
              "    </tr>\n",
              "    <tr>\n",
              "      <th>4</th>\n",
              "      <td>19</td>\n",
              "      <td>1</td>\n",
              "      <td>02:59</td>\n",
              "      <td>13</td>\n",
              "      <td>Florida Panthers</td>\n",
              "      <td>Shot</td>\n",
              "      <td>-57.0</td>\n",
              "      <td>14.0</td>\n",
              "      <td>35.846897</td>\n",
              "      <td>-0.401229</td>\n",
              "      <td>...</td>\n",
              "      <td>-0.222013</td>\n",
              "      <td>21.114924</td>\n",
              "      <td>0</td>\n",
              "      <td>5</td>\n",
              "      <td>5</td>\n",
              "      <td>playoffs</td>\n",
              "      <td>2015030111</td>\n",
              "      <td>20152016</td>\n",
              "      <td>New York Islanders</td>\n",
              "      <td>Florida Panthers</td>\n",
              "    </tr>\n",
              "    <tr>\n",
              "      <th>...</th>\n",
              "      <td>...</td>\n",
              "      <td>...</td>\n",
              "      <td>...</td>\n",
              "      <td>...</td>\n",
              "      <td>...</td>\n",
              "      <td>...</td>\n",
              "      <td>...</td>\n",
              "      <td>...</td>\n",
              "      <td>...</td>\n",
              "      <td>...</td>\n",
              "      <td>...</td>\n",
              "      <td>...</td>\n",
              "      <td>...</td>\n",
              "      <td>...</td>\n",
              "      <td>...</td>\n",
              "      <td>...</td>\n",
              "      <td>...</td>\n",
              "      <td>...</td>\n",
              "      <td>...</td>\n",
              "      <td>...</td>\n",
              "      <td>...</td>\n",
              "    </tr>\n",
              "    <tr>\n",
              "      <th>332737</th>\n",
              "      <td>276</td>\n",
              "      <td>3</td>\n",
              "      <td>15:37</td>\n",
              "      <td>28</td>\n",
              "      <td>San Jose Sharks</td>\n",
              "      <td>Shot</td>\n",
              "      <td>67.0</td>\n",
              "      <td>-19.0</td>\n",
              "      <td>29.832868</td>\n",
              "      <td>-0.690446</td>\n",
              "      <td>...</td>\n",
              "      <td>0.000000</td>\n",
              "      <td>2.000918</td>\n",
              "      <td>0</td>\n",
              "      <td>5</td>\n",
              "      <td>5</td>\n",
              "      <td>regular_season</td>\n",
              "      <td>2018021271</td>\n",
              "      <td>20182019</td>\n",
              "      <td>Colorado Avalanche</td>\n",
              "      <td>San Jose Sharks</td>\n",
              "    </tr>\n",
              "    <tr>\n",
              "      <th>332738</th>\n",
              "      <td>281</td>\n",
              "      <td>3</td>\n",
              "      <td>16:33</td>\n",
              "      <td>21</td>\n",
              "      <td>Colorado Avalanche</td>\n",
              "      <td>Shot</td>\n",
              "      <td>-78.0</td>\n",
              "      <td>1.0</td>\n",
              "      <td>12.041595</td>\n",
              "      <td>-0.083141</td>\n",
              "      <td>...</td>\n",
              "      <td>0.000000</td>\n",
              "      <td>0.851661</td>\n",
              "      <td>0</td>\n",
              "      <td>5</td>\n",
              "      <td>5</td>\n",
              "      <td>regular_season</td>\n",
              "      <td>2018021271</td>\n",
              "      <td>20182019</td>\n",
              "      <td>Colorado Avalanche</td>\n",
              "      <td>San Jose Sharks</td>\n",
              "    </tr>\n",
              "    <tr>\n",
              "      <th>332739</th>\n",
              "      <td>291</td>\n",
              "      <td>3</td>\n",
              "      <td>18:39</td>\n",
              "      <td>21</td>\n",
              "      <td>Colorado Avalanche</td>\n",
              "      <td>Shot</td>\n",
              "      <td>-82.0</td>\n",
              "      <td>10.0</td>\n",
              "      <td>12.806248</td>\n",
              "      <td>-0.896055</td>\n",
              "      <td>...</td>\n",
              "      <td>0.000000</td>\n",
              "      <td>0.659472</td>\n",
              "      <td>0</td>\n",
              "      <td>5</td>\n",
              "      <td>5</td>\n",
              "      <td>regular_season</td>\n",
              "      <td>2018021271</td>\n",
              "      <td>20182019</td>\n",
              "      <td>Colorado Avalanche</td>\n",
              "      <td>San Jose Sharks</td>\n",
              "    </tr>\n",
              "    <tr>\n",
              "      <th>332740</th>\n",
              "      <td>292</td>\n",
              "      <td>3</td>\n",
              "      <td>18:40</td>\n",
              "      <td>21</td>\n",
              "      <td>Colorado Avalanche</td>\n",
              "      <td>Shot</td>\n",
              "      <td>-81.0</td>\n",
              "      <td>1.0</td>\n",
              "      <td>9.055385</td>\n",
              "      <td>-0.110657</td>\n",
              "      <td>...</td>\n",
              "      <td>0.785398</td>\n",
              "      <td>9.055385</td>\n",
              "      <td>0</td>\n",
              "      <td>5</td>\n",
              "      <td>5</td>\n",
              "      <td>regular_season</td>\n",
              "      <td>2018021271</td>\n",
              "      <td>20182019</td>\n",
              "      <td>Colorado Avalanche</td>\n",
              "      <td>San Jose Sharks</td>\n",
              "    </tr>\n",
              "    <tr>\n",
              "      <th>332741</th>\n",
              "      <td>298</td>\n",
              "      <td>3</td>\n",
              "      <td>19:15</td>\n",
              "      <td>28</td>\n",
              "      <td>San Jose Sharks</td>\n",
              "      <td>Goal</td>\n",
              "      <td>74.0</td>\n",
              "      <td>4.0</td>\n",
              "      <td>16.492423</td>\n",
              "      <td>0.244979</td>\n",
              "      <td>...</td>\n",
              "      <td>0.000000</td>\n",
              "      <td>48.033553</td>\n",
              "      <td>0</td>\n",
              "      <td>5</td>\n",
              "      <td>5</td>\n",
              "      <td>regular_season</td>\n",
              "      <td>2018021271</td>\n",
              "      <td>20182019</td>\n",
              "      <td>Colorado Avalanche</td>\n",
              "      <td>San Jose Sharks</td>\n",
              "    </tr>\n",
              "  </tbody>\n",
              "</table>\n",
              "<p>332742 rows × 30 columns</p>\n",
              "</div>"
            ],
            "text/plain": [
              "        event_Idx  period periodTime  id_team_that_shot name_team_that_shot  \\\n",
              "0               9       1      01:27                 13    Florida Panthers   \n",
              "1              12       1      01:55                 13    Florida Panthers   \n",
              "2              14       1      02:06                 13    Florida Panthers   \n",
              "3              18       1      02:54                  2  New York Islanders   \n",
              "4              19       1      02:59                 13    Florida Panthers   \n",
              "...           ...     ...        ...                ...                 ...   \n",
              "332737        276       3      15:37                 28     San Jose Sharks   \n",
              "332738        281       3      16:33                 21  Colorado Avalanche   \n",
              "332739        291       3      18:39                 21  Colorado Avalanche   \n",
              "332740        292       3      18:40                 21  Colorado Avalanche   \n",
              "332741        298       3      19:15                 28     San Jose Sharks   \n",
              "\n",
              "       result_event  x_coord  y_coord   distance     angle  ... angle_change  \\\n",
              "0              Shot    -35.0     31.0  63.134776 -0.513252  ...     0.000000   \n",
              "1              Goal    -78.0      5.0  13.000000 -0.394791  ...     0.000000   \n",
              "2              Shot    -83.0    -20.0  21.189620  1.234122  ...     0.000000   \n",
              "3              Shot     48.0     25.0  48.877398  0.536911  ...     0.000000   \n",
              "4              Shot    -57.0     14.0  35.846897 -0.401229  ...    -0.222013   \n",
              "...             ...      ...      ...        ...       ...  ...          ...   \n",
              "332737         Shot     67.0    -19.0  29.832868 -0.690446  ...     0.000000   \n",
              "332738         Shot    -78.0      1.0  12.041595 -0.083141  ...     0.000000   \n",
              "332739         Shot    -82.0     10.0  12.806248 -0.896055  ...     0.000000   \n",
              "332740         Shot    -81.0      1.0   9.055385 -0.110657  ...     0.785398   \n",
              "332741         Goal     74.0      4.0  16.492423  0.244979  ...     0.000000   \n",
              "\n",
              "            speed powerplay team_that_shot_nb other_team_nb     type_season  \\\n",
              "0        4.590146         0                 5             5        playoffs   \n",
              "1        0.712422         0                 5             5        playoffs   \n",
              "2        7.761422         0                 5             5        playoffs   \n",
              "3       14.840822         0                 5             5        playoffs   \n",
              "4       21.114924         0                 5             5        playoffs   \n",
              "...           ...       ...               ...           ...             ...   \n",
              "332737   2.000918         0                 5             5  regular_season   \n",
              "332738   0.851661         0                 5             5  regular_season   \n",
              "332739   0.659472         0                 5             5  regular_season   \n",
              "332740   9.055385         0                 5             5  regular_season   \n",
              "332741  48.033553         0                 5             5  regular_season   \n",
              "\n",
              "           id_game    season      team_away_name    team_home_name  \n",
              "0       2015030111  20152016  New York Islanders  Florida Panthers  \n",
              "1       2015030111  20152016  New York Islanders  Florida Panthers  \n",
              "2       2015030111  20152016  New York Islanders  Florida Panthers  \n",
              "3       2015030111  20152016  New York Islanders  Florida Panthers  \n",
              "4       2015030111  20152016  New York Islanders  Florida Panthers  \n",
              "...            ...       ...                 ...               ...  \n",
              "332737  2018021271  20182019  Colorado Avalanche   San Jose Sharks  \n",
              "332738  2018021271  20182019  Colorado Avalanche   San Jose Sharks  \n",
              "332739  2018021271  20182019  Colorado Avalanche   San Jose Sharks  \n",
              "332740  2018021271  20182019  Colorado Avalanche   San Jose Sharks  \n",
              "332741  2018021271  20182019  Colorado Avalanche   San Jose Sharks  \n",
              "\n",
              "[332742 rows x 30 columns]"
            ]
          },
          "execution_count": 3,
          "metadata": {},
          "output_type": "execute_result"
        }
      ],
      "source": [
        "training_dataset = df.loc[df['season'] !=  20192020]\n",
        "training_dataset"
      ]
    },
    {
      "cell_type": "code",
      "execution_count": 4,
      "metadata": {
        "colab": {
          "base_uri": "https://localhost:8080/",
          "height": 424
        },
        "id": "59clXPvAZxt8",
        "outputId": "41fed659-ceed-4de3-db6f-7a851d0c1ac4"
      },
      "outputs": [
        {
          "data": {
            "text/html": [
              "<div>\n",
              "<style scoped>\n",
              "    .dataframe tbody tr th:only-of-type {\n",
              "        vertical-align: middle;\n",
              "    }\n",
              "\n",
              "    .dataframe tbody tr th {\n",
              "        vertical-align: top;\n",
              "    }\n",
              "\n",
              "    .dataframe thead th {\n",
              "        text-align: right;\n",
              "    }\n",
              "</style>\n",
              "<table border=\"1\" class=\"dataframe\">\n",
              "  <thead>\n",
              "    <tr style=\"text-align: right;\">\n",
              "      <th></th>\n",
              "      <th>distance</th>\n",
              "      <th>angle</th>\n",
              "      <th>result_event</th>\n",
              "      <th>empty_net</th>\n",
              "    </tr>\n",
              "  </thead>\n",
              "  <tbody>\n",
              "    <tr>\n",
              "      <th>0</th>\n",
              "      <td>63.134776</td>\n",
              "      <td>-0.513252</td>\n",
              "      <td>Shot</td>\n",
              "      <td>NaN</td>\n",
              "    </tr>\n",
              "    <tr>\n",
              "      <th>1</th>\n",
              "      <td>13.000000</td>\n",
              "      <td>-0.394791</td>\n",
              "      <td>Goal</td>\n",
              "      <td>False</td>\n",
              "    </tr>\n",
              "    <tr>\n",
              "      <th>2</th>\n",
              "      <td>21.189620</td>\n",
              "      <td>1.234122</td>\n",
              "      <td>Shot</td>\n",
              "      <td>NaN</td>\n",
              "    </tr>\n",
              "    <tr>\n",
              "      <th>3</th>\n",
              "      <td>48.877398</td>\n",
              "      <td>0.536911</td>\n",
              "      <td>Shot</td>\n",
              "      <td>NaN</td>\n",
              "    </tr>\n",
              "    <tr>\n",
              "      <th>4</th>\n",
              "      <td>35.846897</td>\n",
              "      <td>-0.401229</td>\n",
              "      <td>Shot</td>\n",
              "      <td>NaN</td>\n",
              "    </tr>\n",
              "    <tr>\n",
              "      <th>...</th>\n",
              "      <td>...</td>\n",
              "      <td>...</td>\n",
              "      <td>...</td>\n",
              "      <td>...</td>\n",
              "    </tr>\n",
              "    <tr>\n",
              "      <th>332737</th>\n",
              "      <td>29.832868</td>\n",
              "      <td>-0.690446</td>\n",
              "      <td>Shot</td>\n",
              "      <td>NaN</td>\n",
              "    </tr>\n",
              "    <tr>\n",
              "      <th>332738</th>\n",
              "      <td>12.041595</td>\n",
              "      <td>-0.083141</td>\n",
              "      <td>Shot</td>\n",
              "      <td>NaN</td>\n",
              "    </tr>\n",
              "    <tr>\n",
              "      <th>332739</th>\n",
              "      <td>12.806248</td>\n",
              "      <td>-0.896055</td>\n",
              "      <td>Shot</td>\n",
              "      <td>NaN</td>\n",
              "    </tr>\n",
              "    <tr>\n",
              "      <th>332740</th>\n",
              "      <td>9.055385</td>\n",
              "      <td>-0.110657</td>\n",
              "      <td>Shot</td>\n",
              "      <td>NaN</td>\n",
              "    </tr>\n",
              "    <tr>\n",
              "      <th>332741</th>\n",
              "      <td>16.492423</td>\n",
              "      <td>0.244979</td>\n",
              "      <td>Goal</td>\n",
              "      <td>True</td>\n",
              "    </tr>\n",
              "  </tbody>\n",
              "</table>\n",
              "<p>332742 rows × 4 columns</p>\n",
              "</div>"
            ],
            "text/plain": [
              "         distance     angle result_event empty_net\n",
              "0       63.134776 -0.513252         Shot       NaN\n",
              "1       13.000000 -0.394791         Goal     False\n",
              "2       21.189620  1.234122         Shot       NaN\n",
              "3       48.877398  0.536911         Shot       NaN\n",
              "4       35.846897 -0.401229         Shot       NaN\n",
              "...           ...       ...          ...       ...\n",
              "332737  29.832868 -0.690446         Shot       NaN\n",
              "332738  12.041595 -0.083141         Shot       NaN\n",
              "332739  12.806248 -0.896055         Shot       NaN\n",
              "332740   9.055385 -0.110657         Shot       NaN\n",
              "332741  16.492423  0.244979         Goal      True\n",
              "\n",
              "[332742 rows x 4 columns]"
            ]
          },
          "execution_count": 4,
          "metadata": {},
          "output_type": "execute_result"
        }
      ],
      "source": [
        "dataset = training_dataset.filter(['distance', 'angle', 'result_event', 'empty_net'])\n",
        "dataset"
      ]
    },
    {
      "cell_type": "code",
      "execution_count": 5,
      "metadata": {
        "colab": {
          "base_uri": "https://localhost:8080/",
          "height": 510
        },
        "id": "JhylM4ZRJxDz",
        "outputId": "49312506-1251-47c6-d891-6292fe03a60f"
      },
      "outputs": [
        {
          "data": {
            "text/html": [
              "<div>\n",
              "<style scoped>\n",
              "    .dataframe tbody tr th:only-of-type {\n",
              "        vertical-align: middle;\n",
              "    }\n",
              "\n",
              "    .dataframe tbody tr th {\n",
              "        vertical-align: top;\n",
              "    }\n",
              "\n",
              "    .dataframe thead th {\n",
              "        text-align: right;\n",
              "    }\n",
              "</style>\n",
              "<table border=\"1\" class=\"dataframe\">\n",
              "  <thead>\n",
              "    <tr style=\"text-align: right;\">\n",
              "      <th></th>\n",
              "      <th>distance</th>\n",
              "      <th>angle</th>\n",
              "      <th>isGoal</th>\n",
              "      <th>empty_net</th>\n",
              "    </tr>\n",
              "  </thead>\n",
              "  <tbody>\n",
              "    <tr>\n",
              "      <th>0</th>\n",
              "      <td>63.134776</td>\n",
              "      <td>-0.513252</td>\n",
              "      <td>0</td>\n",
              "      <td>0</td>\n",
              "    </tr>\n",
              "    <tr>\n",
              "      <th>1</th>\n",
              "      <td>13.000000</td>\n",
              "      <td>-0.394791</td>\n",
              "      <td>1</td>\n",
              "      <td>0</td>\n",
              "    </tr>\n",
              "    <tr>\n",
              "      <th>2</th>\n",
              "      <td>21.189620</td>\n",
              "      <td>1.234122</td>\n",
              "      <td>0</td>\n",
              "      <td>0</td>\n",
              "    </tr>\n",
              "    <tr>\n",
              "      <th>3</th>\n",
              "      <td>48.877398</td>\n",
              "      <td>0.536911</td>\n",
              "      <td>0</td>\n",
              "      <td>0</td>\n",
              "    </tr>\n",
              "    <tr>\n",
              "      <th>4</th>\n",
              "      <td>35.846897</td>\n",
              "      <td>-0.401229</td>\n",
              "      <td>0</td>\n",
              "      <td>0</td>\n",
              "    </tr>\n",
              "    <tr>\n",
              "      <th>...</th>\n",
              "      <td>...</td>\n",
              "      <td>...</td>\n",
              "      <td>...</td>\n",
              "      <td>...</td>\n",
              "    </tr>\n",
              "    <tr>\n",
              "      <th>332737</th>\n",
              "      <td>29.832868</td>\n",
              "      <td>-0.690446</td>\n",
              "      <td>0</td>\n",
              "      <td>0</td>\n",
              "    </tr>\n",
              "    <tr>\n",
              "      <th>332738</th>\n",
              "      <td>12.041595</td>\n",
              "      <td>-0.083141</td>\n",
              "      <td>0</td>\n",
              "      <td>0</td>\n",
              "    </tr>\n",
              "    <tr>\n",
              "      <th>332739</th>\n",
              "      <td>12.806248</td>\n",
              "      <td>-0.896055</td>\n",
              "      <td>0</td>\n",
              "      <td>0</td>\n",
              "    </tr>\n",
              "    <tr>\n",
              "      <th>332740</th>\n",
              "      <td>9.055385</td>\n",
              "      <td>-0.110657</td>\n",
              "      <td>0</td>\n",
              "      <td>0</td>\n",
              "    </tr>\n",
              "    <tr>\n",
              "      <th>332741</th>\n",
              "      <td>16.492423</td>\n",
              "      <td>0.244979</td>\n",
              "      <td>1</td>\n",
              "      <td>1</td>\n",
              "    </tr>\n",
              "  </tbody>\n",
              "</table>\n",
              "<p>332742 rows × 4 columns</p>\n",
              "</div>"
            ],
            "text/plain": [
              "         distance     angle  isGoal  empty_net\n",
              "0       63.134776 -0.513252       0          0\n",
              "1       13.000000 -0.394791       1          0\n",
              "2       21.189620  1.234122       0          0\n",
              "3       48.877398  0.536911       0          0\n",
              "4       35.846897 -0.401229       0          0\n",
              "...           ...       ...     ...        ...\n",
              "332737  29.832868 -0.690446       0          0\n",
              "332738  12.041595 -0.083141       0          0\n",
              "332739  12.806248 -0.896055       0          0\n",
              "332740   9.055385 -0.110657       0          0\n",
              "332741  16.492423  0.244979       1          1\n",
              "\n",
              "[332742 rows x 4 columns]"
            ]
          },
          "execution_count": 5,
          "metadata": {},
          "output_type": "execute_result"
        }
      ],
      "source": [
        "from numpy.core.multiarray import result_type\n",
        "from pandas.core import resample\n",
        "# Cleaning up the dataset \n",
        "dataset['empty_net'] = dataset['empty_net'].fillna(0) # replace all NaNs with 0\n",
        "dataset['empty_net'] = dataset['empty_net'].astype(int) # assign 0 or 1 based on the boolean present\n",
        "\n",
        "dataset.rename(columns={'result_event': 'isGoal'}, inplace=True)\n",
        "dataset['isGoal'].loc[dataset['isGoal'] == 'Goal'] = 1\n",
        "dataset['isGoal'].loc[dataset['isGoal'] == 'Shot'] = 0\n",
        "dataset['isGoal'] = dataset['isGoal'].apply(pd.to_numeric)\n",
        "dataset"
      ]
    },
    {
      "cell_type": "code",
      "execution_count": 29,
      "metadata": {},
      "outputs": [
        {
          "data": {
            "text/html": [
              "<div>\n",
              "<style scoped>\n",
              "    .dataframe tbody tr th:only-of-type {\n",
              "        vertical-align: middle;\n",
              "    }\n",
              "\n",
              "    .dataframe tbody tr th {\n",
              "        vertical-align: top;\n",
              "    }\n",
              "\n",
              "    .dataframe thead th {\n",
              "        text-align: right;\n",
              "    }\n",
              "</style>\n",
              "<table border=\"1\" class=\"dataframe\">\n",
              "  <thead>\n",
              "    <tr style=\"text-align: right;\">\n",
              "      <th></th>\n",
              "      <th>distance</th>\n",
              "      <th>angle</th>\n",
              "      <th>isGoal</th>\n",
              "      <th>empty_net</th>\n",
              "    </tr>\n",
              "  </thead>\n",
              "  <tbody>\n",
              "    <tr>\n",
              "      <th>0</th>\n",
              "      <td>63.134776</td>\n",
              "      <td>-29.407189</td>\n",
              "      <td>0</td>\n",
              "      <td>0</td>\n",
              "    </tr>\n",
              "    <tr>\n",
              "      <th>1</th>\n",
              "      <td>13.000000</td>\n",
              "      <td>-22.619865</td>\n",
              "      <td>1</td>\n",
              "      <td>0</td>\n",
              "    </tr>\n",
              "    <tr>\n",
              "      <th>2</th>\n",
              "      <td>21.189620</td>\n",
              "      <td>70.709954</td>\n",
              "      <td>0</td>\n",
              "      <td>0</td>\n",
              "    </tr>\n",
              "    <tr>\n",
              "      <th>3</th>\n",
              "      <td>48.877398</td>\n",
              "      <td>30.762720</td>\n",
              "      <td>0</td>\n",
              "      <td>0</td>\n",
              "    </tr>\n",
              "    <tr>\n",
              "      <th>4</th>\n",
              "      <td>35.846897</td>\n",
              "      <td>-22.988717</td>\n",
              "      <td>0</td>\n",
              "      <td>0</td>\n",
              "    </tr>\n",
              "    <tr>\n",
              "      <th>...</th>\n",
              "      <td>...</td>\n",
              "      <td>...</td>\n",
              "      <td>...</td>\n",
              "      <td>...</td>\n",
              "    </tr>\n",
              "    <tr>\n",
              "      <th>332737</th>\n",
              "      <td>29.832868</td>\n",
              "      <td>-39.559668</td>\n",
              "      <td>0</td>\n",
              "      <td>0</td>\n",
              "    </tr>\n",
              "    <tr>\n",
              "      <th>332738</th>\n",
              "      <td>12.041595</td>\n",
              "      <td>-4.763642</td>\n",
              "      <td>0</td>\n",
              "      <td>0</td>\n",
              "    </tr>\n",
              "    <tr>\n",
              "      <th>332739</th>\n",
              "      <td>12.806248</td>\n",
              "      <td>-51.340192</td>\n",
              "      <td>0</td>\n",
              "      <td>0</td>\n",
              "    </tr>\n",
              "    <tr>\n",
              "      <th>332740</th>\n",
              "      <td>9.055385</td>\n",
              "      <td>-6.340192</td>\n",
              "      <td>0</td>\n",
              "      <td>0</td>\n",
              "    </tr>\n",
              "    <tr>\n",
              "      <th>332741</th>\n",
              "      <td>16.492423</td>\n",
              "      <td>14.036243</td>\n",
              "      <td>1</td>\n",
              "      <td>1</td>\n",
              "    </tr>\n",
              "  </tbody>\n",
              "</table>\n",
              "<p>332742 rows × 4 columns</p>\n",
              "</div>"
            ],
            "text/plain": [
              "         distance      angle  isGoal  empty_net\n",
              "0       63.134776 -29.407189       0          0\n",
              "1       13.000000 -22.619865       1          0\n",
              "2       21.189620  70.709954       0          0\n",
              "3       48.877398  30.762720       0          0\n",
              "4       35.846897 -22.988717       0          0\n",
              "...           ...        ...     ...        ...\n",
              "332737  29.832868 -39.559668       0          0\n",
              "332738  12.041595  -4.763642       0          0\n",
              "332739  12.806248 -51.340192       0          0\n",
              "332740   9.055385  -6.340192       0          0\n",
              "332741  16.492423  14.036243       1          1\n",
              "\n",
              "[332742 rows x 4 columns]"
            ]
          },
          "execution_count": 29,
          "metadata": {},
          "output_type": "execute_result"
        }
      ],
      "source": [
        "dataset['angle'] = dataset['angle'].apply(lambda x : np.degrees(x))\n",
        "dataset"
      ]
    },
    {
      "cell_type": "code",
      "execution_count": 6,
      "metadata": {},
      "outputs": [
        {
          "name": "stdout",
          "output_type": "stream",
          "text": [
            "The number of goals in the training dataset: 31095\n",
            "The number of shots in the training dataset:  301647\n"
          ]
        }
      ],
      "source": [
        "# Information about our dataset\n",
        "goals_count = dataset['isGoal'].loc[dataset['isGoal'] == 1].count()\n",
        "shots_count = dataset['isGoal'].loc[dataset['isGoal'] == 0].count()\n",
        "print(\"The number of goals in the training dataset:\", goals_count)\n",
        "print(\"The number of shots in the training dataset: \", shots_count)"
      ]
    },
    {
      "cell_type": "markdown",
      "metadata": {},
      "source": [
        "## Question 1"
      ]
    },
    {
      "cell_type": "markdown",
      "metadata": {},
      "source": [
        "* Binning by distance"
      ]
    },
    {
      "cell_type": "code",
      "execution_count": 16,
      "metadata": {},
      "outputs": [
        {
          "data": {
            "text/plain": [
              "\"\\ncop = dataset.copy()\\nbins = [0, 20, 40, 60, 80, 100, 120, 140, 160, 180, 200] # bins for distance\\ncop['binned'] = pd.cut(cop['distance'], bins)\\ncop['Dist'] = cop['binned'].apply(lambda x: x.right)\\ncop.drop(['angle', 'distance', 'empty_net', 'binned'], inplace=True, axis=1)\\ncop\\n\""
            ]
          },
          "execution_count": 16,
          "metadata": {},
          "output_type": "execute_result"
        }
      ],
      "source": [
        "'''\n",
        "cop = dataset.copy()\n",
        "bins = [0, 20, 40, 60, 80, 100, 120, 140, 160, 180, 200] # bins for distance\n",
        "cop['binned'] = pd.cut(cop['distance'], bins)\n",
        "cop['Dist'] = cop['binned'].apply(lambda x: x.right)\n",
        "cop.drop(['angle', 'distance', 'empty_net', 'binned'], inplace=True, axis=1)\n",
        "cop\n",
        "'''"
      ]
    },
    {
      "cell_type": "code",
      "execution_count": 21,
      "metadata": {},
      "outputs": [
        {
          "data": {
            "text/plain": [
              "<AxesSubplot: xlabel='distance', ylabel='Count'>"
            ]
          },
          "execution_count": 21,
          "metadata": {},
          "output_type": "execute_result"
        },
        {
          "data": {
            "image/png": "[encoded data removed]",
            "text/plain": [
              "<Figure size 640x480 with 1 Axes>"
            ]
          },
          "metadata": {},
          "output_type": "display_data"
        }
      ],
      "source": [
        "# Overall view \n",
        "sns.histplot(data= dataset, x= 'distance', hue=\"isGoal\", multiple='dodge', element='step', stat='count', binwidth=5,log_scale=(False, True))\n"
      ]
    },
    {
      "cell_type": "code",
      "execution_count": 24,
      "metadata": {},
      "outputs": [
        {
          "data": {
            "text/plain": [
              "<AxesSubplot: xlabel='distance', ylabel='Count'>"
            ]
          },
          "execution_count": 24,
          "metadata": {},
          "output_type": "execute_result"
        },
        {
          "data": {
            "image/png": "[encoded data removed]",
            "text/plain": [
              "<Figure size 640x480 with 1 Axes>"
            ]
          },
          "metadata": {},
          "output_type": "display_data"
        }
      ],
      "source": [
        "# Close view \n",
        "sns.histplot(data=dataset, x= \"distance\", hue=\"isGoal\", multiple='dodge', element='step', stat='count',binwidth=5,log_scale=(False, True))\n"
      ]
    },
    {
      "cell_type": "markdown",
      "metadata": {},
      "source": [
        "* Binning by angle"
      ]
    },
    {
      "cell_type": "code",
      "execution_count": 34,
      "metadata": {},
      "outputs": [
        {
          "data": {
            "text/html": [
              "<div>\n",
              "<style scoped>\n",
              "    .dataframe tbody tr th:only-of-type {\n",
              "        vertical-align: middle;\n",
              "    }\n",
              "\n",
              "    .dataframe tbody tr th {\n",
              "        vertical-align: top;\n",
              "    }\n",
              "\n",
              "    .dataframe thead th {\n",
              "        text-align: right;\n",
              "    }\n",
              "</style>\n",
              "<table border=\"1\" class=\"dataframe\">\n",
              "  <thead>\n",
              "    <tr style=\"text-align: right;\">\n",
              "      <th></th>\n",
              "      <th>isGoal</th>\n",
              "      <th>Angle</th>\n",
              "    </tr>\n",
              "  </thead>\n",
              "  <tbody>\n",
              "    <tr>\n",
              "      <th>0</th>\n",
              "      <td>0</td>\n",
              "      <td>-27.0</td>\n",
              "    </tr>\n",
              "    <tr>\n",
              "      <th>1</th>\n",
              "      <td>1</td>\n",
              "      <td>-18.0</td>\n",
              "    </tr>\n",
              "    <tr>\n",
              "      <th>2</th>\n",
              "      <td>0</td>\n",
              "      <td>72.0</td>\n",
              "    </tr>\n",
              "    <tr>\n",
              "      <th>3</th>\n",
              "      <td>0</td>\n",
              "      <td>36.0</td>\n",
              "    </tr>\n",
              "    <tr>\n",
              "      <th>4</th>\n",
              "      <td>0</td>\n",
              "      <td>-18.0</td>\n",
              "    </tr>\n",
              "    <tr>\n",
              "      <th>...</th>\n",
              "      <td>...</td>\n",
              "      <td>...</td>\n",
              "    </tr>\n",
              "    <tr>\n",
              "      <th>332737</th>\n",
              "      <td>0</td>\n",
              "      <td>-36.0</td>\n",
              "    </tr>\n",
              "    <tr>\n",
              "      <th>332738</th>\n",
              "      <td>0</td>\n",
              "      <td>0.0</td>\n",
              "    </tr>\n",
              "    <tr>\n",
              "      <th>332739</th>\n",
              "      <td>0</td>\n",
              "      <td>-45.0</td>\n",
              "    </tr>\n",
              "    <tr>\n",
              "      <th>332740</th>\n",
              "      <td>0</td>\n",
              "      <td>0.0</td>\n",
              "    </tr>\n",
              "    <tr>\n",
              "      <th>332741</th>\n",
              "      <td>1</td>\n",
              "      <td>18.0</td>\n",
              "    </tr>\n",
              "  </tbody>\n",
              "</table>\n",
              "<p>332742 rows × 2 columns</p>\n",
              "</div>"
            ],
            "text/plain": [
              "        isGoal Angle\n",
              "0            0 -27.0\n",
              "1            1 -18.0\n",
              "2            0  72.0\n",
              "3            0  36.0\n",
              "4            0 -18.0\n",
              "...        ...   ...\n",
              "332737       0 -36.0\n",
              "332738       0   0.0\n",
              "332739       0 -45.0\n",
              "332740       0   0.0\n",
              "332741       1  18.0\n",
              "\n",
              "[332742 rows x 2 columns]"
            ]
          },
          "execution_count": 34,
          "metadata": {},
          "output_type": "execute_result"
        }
      ],
      "source": [
        "copAngle = dataset.copy()\n",
        "copAngle['binned'] = pd.cut(copAngle['angle'], 20)\n",
        "copAngle['Angle'] = copAngle['binned'].apply(lambda x: x.right)\n",
        "copAngle.drop(['angle', 'distance', 'empty_net', 'binned'], inplace=True, axis=1)\n",
        "copAngle"
      ]
    },
    {
      "cell_type": "code",
      "execution_count": 35,
      "metadata": {},
      "outputs": [
        {
          "data": {
            "text/plain": [
              "<AxesSubplot: xlabel='Angle', ylabel='Count'>"
            ]
          },
          "execution_count": 35,
          "metadata": {},
          "output_type": "execute_result"
        },
        {
          "data": {
            "image/png": "[encoded data removed]",
            "text/plain": [
              "<Figure size 640x480 with 1 Axes>"
            ]
          },
          "metadata": {},
          "output_type": "display_data"
        }
      ],
      "source": [
        "# General Overview\n",
        "sns.histplot(data=copAngle, x= \"Angle\", hue=\"isGoal\", multiple='dodge', element='bars')"
      ]
    },
    {
      "cell_type": "code",
      "execution_count": 36,
      "metadata": {},
      "outputs": [
        {
          "data": {
            "text/plain": [
              "(0.0, 30000.0)"
            ]
          },
          "execution_count": 36,
          "metadata": {},
          "output_type": "execute_result"
        },
        {
          "data": {
            "image/png": "[encoded data removed]",
            "text/plain": [
              "<Figure size 640x480 with 1 Axes>"
            ]
          },
          "metadata": {},
          "output_type": "display_data"
        }
      ],
      "source": [
        "# Close view\n",
        "sns.histplot(data=copAngle, x= \"Angle\", hue=\"isGoal\", multiple='dodge', stat='count')\n",
        "plt.xlim(-40,40)\n",
        "plt.ylim(0,30000)"
      ]
    },
    {
      "cell_type": "markdown",
      "metadata": {},
      "source": [
        "2D Histogram without goal separation"
      ]
    },
    {
      "cell_type": "code",
      "execution_count": 37,
      "metadata": {},
      "outputs": [
        {
          "data": {
            "text/html": [
              "<div>\n",
              "<style scoped>\n",
              "    .dataframe tbody tr th:only-of-type {\n",
              "        vertical-align: middle;\n",
              "    }\n",
              "\n",
              "    .dataframe tbody tr th {\n",
              "        vertical-align: top;\n",
              "    }\n",
              "\n",
              "    .dataframe thead th {\n",
              "        text-align: right;\n",
              "    }\n",
              "</style>\n",
              "<table border=\"1\" class=\"dataframe\">\n",
              "  <thead>\n",
              "    <tr style=\"text-align: right;\">\n",
              "      <th></th>\n",
              "      <th>isGoal</th>\n",
              "      <th>Dist</th>\n",
              "      <th>Angle</th>\n",
              "    </tr>\n",
              "  </thead>\n",
              "  <tbody>\n",
              "    <tr>\n",
              "      <th>0</th>\n",
              "      <td>0</td>\n",
              "      <td>67.376</td>\n",
              "      <td>-27.0</td>\n",
              "    </tr>\n",
              "    <tr>\n",
              "      <th>1</th>\n",
              "      <td>1</td>\n",
              "      <td>19.965</td>\n",
              "      <td>-18.0</td>\n",
              "    </tr>\n",
              "    <tr>\n",
              "      <th>2</th>\n",
              "      <td>0</td>\n",
              "      <td>29.447</td>\n",
              "      <td>72.0</td>\n",
              "    </tr>\n",
              "    <tr>\n",
              "      <th>3</th>\n",
              "      <td>0</td>\n",
              "      <td>57.894</td>\n",
              "      <td>36.0</td>\n",
              "    </tr>\n",
              "    <tr>\n",
              "      <th>4</th>\n",
              "      <td>0</td>\n",
              "      <td>38.929</td>\n",
              "      <td>-18.0</td>\n",
              "    </tr>\n",
              "    <tr>\n",
              "      <th>...</th>\n",
              "      <td>...</td>\n",
              "      <td>...</td>\n",
              "      <td>...</td>\n",
              "    </tr>\n",
              "    <tr>\n",
              "      <th>332737</th>\n",
              "      <td>0</td>\n",
              "      <td>38.929</td>\n",
              "      <td>-36.0</td>\n",
              "    </tr>\n",
              "    <tr>\n",
              "      <th>332738</th>\n",
              "      <td>0</td>\n",
              "      <td>19.965</td>\n",
              "      <td>0.0</td>\n",
              "    </tr>\n",
              "    <tr>\n",
              "      <th>332739</th>\n",
              "      <td>0</td>\n",
              "      <td>19.965</td>\n",
              "      <td>-45.0</td>\n",
              "    </tr>\n",
              "    <tr>\n",
              "      <th>332740</th>\n",
              "      <td>0</td>\n",
              "      <td>10.482</td>\n",
              "      <td>0.0</td>\n",
              "    </tr>\n",
              "    <tr>\n",
              "      <th>332741</th>\n",
              "      <td>1</td>\n",
              "      <td>19.965</td>\n",
              "      <td>18.0</td>\n",
              "    </tr>\n",
              "  </tbody>\n",
              "</table>\n",
              "<p>332742 rows × 3 columns</p>\n",
              "</div>"
            ],
            "text/plain": [
              "        isGoal    Dist Angle\n",
              "0            0  67.376 -27.0\n",
              "1            1  19.965 -18.0\n",
              "2            0  29.447  72.0\n",
              "3            0  57.894  36.0\n",
              "4            0  38.929 -18.0\n",
              "...        ...     ...   ...\n",
              "332737       0  38.929 -36.0\n",
              "332738       0  19.965   0.0\n",
              "332739       0  19.965 -45.0\n",
              "332740       0  10.482   0.0\n",
              "332741       1  19.965  18.0\n",
              "\n",
              "[332742 rows x 3 columns]"
            ]
          },
          "execution_count": 37,
          "metadata": {},
          "output_type": "execute_result"
        }
      ],
      "source": [
        "cop2D = dataset.copy()\n",
        "\n",
        "cop2D['Dist'] = pd.cut(cop2D['distance'], 20).apply(lambda x : x.right)\n",
        "cop2D['Angle'] = pd.cut(cop2D['angle'], 20).apply(lambda x: x.right)\n",
        "\n",
        "cop2D.drop(['angle', 'distance', 'empty_net'], inplace=True, axis=1)\n",
        "cop2D"
      ]
    },
    {
      "cell_type": "code",
      "execution_count": 38,
      "metadata": {},
      "outputs": [
        {
          "data": {
            "text/plain": [
              "<seaborn.axisgrid.JointGrid at 0x7f8f10869b80>"
            ]
          },
          "execution_count": 38,
          "metadata": {},
          "output_type": "execute_result"
        },
        {
          "data": {
            "image/png": "[encoded data removed]",
            "text/plain": [
              "<Figure size 600x600 with 3 Axes>"
            ]
          },
          "metadata": {},
          "output_type": "display_data"
        }
      ],
      "source": [
        "# Vue complète\n",
        "sns.jointplot(data=cop2D, x=\"Dist\", y=\"Angle\")"
      ]
    },
    {
      "cell_type": "code",
      "execution_count": 39,
      "metadata": {},
      "outputs": [
        {
          "data": {
            "text/plain": [
              "(0.0, 100.0)"
            ]
          },
          "execution_count": 39,
          "metadata": {},
          "output_type": "execute_result"
        },
        {
          "data": {
            "image/png": "[encoded data removed]",
            "text/plain": [
              "<Figure size 600x600 with 3 Axes>"
            ]
          },
          "metadata": {},
          "output_type": "display_data"
        }
      ],
      "source": [
        "# Closer view \n",
        "sns.jointplot(data=cop2D, x=\"Dist\", y=\"Angle\")\n",
        "plt.xlim(0, 100)"
      ]
    },
    {
      "cell_type": "markdown",
      "metadata": {},
      "source": [
        "## Question 2"
      ]
    },
    {
      "cell_type": "markdown",
      "metadata": {},
      "source": [
        "* Goal rate to the distance"
      ]
    },
    {
      "cell_type": "code",
      "execution_count": 40,
      "metadata": {},
      "outputs": [
        {
          "data": {
            "text/html": [
              "<div>\n",
              "<style scoped>\n",
              "    .dataframe tbody tr th:only-of-type {\n",
              "        vertical-align: middle;\n",
              "    }\n",
              "\n",
              "    .dataframe tbody tr th {\n",
              "        vertical-align: top;\n",
              "    }\n",
              "\n",
              "    .dataframe thead th {\n",
              "        text-align: right;\n",
              "    }\n",
              "</style>\n",
              "<table border=\"1\" class=\"dataframe\">\n",
              "  <thead>\n",
              "    <tr style=\"text-align: right;\">\n",
              "      <th></th>\n",
              "      <th>Dist</th>\n",
              "      <th>goal_rate</th>\n",
              "    </tr>\n",
              "  </thead>\n",
              "  <tbody>\n",
              "    <tr>\n",
              "      <th>0</th>\n",
              "      <td>20</td>\n",
              "      <td>17.29</td>\n",
              "    </tr>\n",
              "    <tr>\n",
              "      <th>1</th>\n",
              "      <td>40</td>\n",
              "      <td>9.26</td>\n",
              "    </tr>\n",
              "    <tr>\n",
              "      <th>2</th>\n",
              "      <td>60</td>\n",
              "      <td>3.73</td>\n",
              "    </tr>\n",
              "    <tr>\n",
              "      <th>3</th>\n",
              "      <td>80</td>\n",
              "      <td>2.65</td>\n",
              "    </tr>\n",
              "    <tr>\n",
              "      <th>4</th>\n",
              "      <td>100</td>\n",
              "      <td>4.29</td>\n",
              "    </tr>\n",
              "    <tr>\n",
              "      <th>5</th>\n",
              "      <td>120</td>\n",
              "      <td>6.38</td>\n",
              "    </tr>\n",
              "    <tr>\n",
              "      <th>6</th>\n",
              "      <td>140</td>\n",
              "      <td>5.40</td>\n",
              "    </tr>\n",
              "    <tr>\n",
              "      <th>7</th>\n",
              "      <td>160</td>\n",
              "      <td>7.22</td>\n",
              "    </tr>\n",
              "    <tr>\n",
              "      <th>8</th>\n",
              "      <td>180</td>\n",
              "      <td>12.97</td>\n",
              "    </tr>\n",
              "    <tr>\n",
              "      <th>9</th>\n",
              "      <td>200</td>\n",
              "      <td>8.79</td>\n",
              "    </tr>\n",
              "  </tbody>\n",
              "</table>\n",
              "</div>"
            ],
            "text/plain": [
              "  Dist  goal_rate\n",
              "0   20      17.29\n",
              "1   40       9.26\n",
              "2   60       3.73\n",
              "3   80       2.65\n",
              "4  100       4.29\n",
              "5  120       6.38\n",
              "6  140       5.40\n",
              "7  160       7.22\n",
              "8  180      12.97\n",
              "9  200       8.79"
            ]
          },
          "execution_count": 40,
          "metadata": {},
          "output_type": "execute_result"
        }
      ],
      "source": [
        "goals = cop.loc[cop['isGoal'] == 1].groupby('Dist').size().reset_index(name='goals')\n",
        "total_shots = cop.loc[cop['isGoal'] == 0].groupby('Dist').size().reset_index(name='total_shots')\n",
        "total_shots.drop(['Dist'], inplace=True, axis=1)\n",
        "\n",
        "goal_rate_distance = pd.concat([goals, total_shots], axis=1)\n",
        "goal_rate_distance['goal_rate'] = ((goal_rate_distance['goals'] / (goal_rate_distance['total_shots'] + goal_rate_distance['goals']))*100).round(2)\n",
        "goal_rate_distance.drop(['goals', 'total_shots'], inplace=True, axis=1)\n",
        "goal_rate_distance\n",
        "\n"
      ]
    },
    {
      "cell_type": "code",
      "execution_count": 41,
      "metadata": {},
      "outputs": [
        {
          "data": {
            "text/plain": [
              "Text(0.5, 1.0, 'Goal rate vs Distance')"
            ]
          },
          "execution_count": 41,
          "metadata": {},
          "output_type": "execute_result"
        },
        {
          "data": {
            "image/png": "[encoded data removed]",
            "text/plain": [
              "<Figure size 640x480 with 1 Axes>"
            ]
          },
          "metadata": {},
          "output_type": "display_data"
        }
      ],
      "source": [
        "# Histogramme\n",
        "goal_rate_distance.plot(kind='bar', x='Dist', y= 'goal_rate', width=0.3)\n",
        "plt.xlabel(\"Distance\")\n",
        "plt.ylabel(\"Goal Rate\")\n",
        "plt.title(\"Goal rate vs Distance\")"
      ]
    },
    {
      "cell_type": "markdown",
      "metadata": {},
      "source": [
        "* Goal rate to the angle of the shot"
      ]
    },
    {
      "cell_type": "code",
      "execution_count": 42,
      "metadata": {},
      "outputs": [
        {
          "data": {
            "text/html": [
              "<div>\n",
              "<style scoped>\n",
              "    .dataframe tbody tr th:only-of-type {\n",
              "        vertical-align: middle;\n",
              "    }\n",
              "\n",
              "    .dataframe tbody tr th {\n",
              "        vertical-align: top;\n",
              "    }\n",
              "\n",
              "    .dataframe thead th {\n",
              "        text-align: right;\n",
              "    }\n",
              "</style>\n",
              "<table border=\"1\" class=\"dataframe\">\n",
              "  <thead>\n",
              "    <tr style=\"text-align: right;\">\n",
              "      <th></th>\n",
              "      <th>Angle</th>\n",
              "      <th>goal_rate</th>\n",
              "    </tr>\n",
              "  </thead>\n",
              "  <tbody>\n",
              "    <tr>\n",
              "      <th>0</th>\n",
              "      <td>-81.0</td>\n",
              "      <td>7.52</td>\n",
              "    </tr>\n",
              "    <tr>\n",
              "      <th>1</th>\n",
              "      <td>-72.0</td>\n",
              "      <td>5.17</td>\n",
              "    </tr>\n",
              "    <tr>\n",
              "      <th>2</th>\n",
              "      <td>-63.0</td>\n",
              "      <td>6.27</td>\n",
              "    </tr>\n",
              "    <tr>\n",
              "      <th>3</th>\n",
              "      <td>-54.0</td>\n",
              "      <td>7.27</td>\n",
              "    </tr>\n",
              "    <tr>\n",
              "      <th>4</th>\n",
              "      <td>-45.0</td>\n",
              "      <td>8.68</td>\n",
              "    </tr>\n",
              "    <tr>\n",
              "      <th>5</th>\n",
              "      <td>-36.0</td>\n",
              "      <td>9.07</td>\n",
              "    </tr>\n",
              "    <tr>\n",
              "      <th>6</th>\n",
              "      <td>-27.0</td>\n",
              "      <td>8.44</td>\n",
              "    </tr>\n",
              "    <tr>\n",
              "      <th>7</th>\n",
              "      <td>-18.0</td>\n",
              "      <td>10.06</td>\n",
              "    </tr>\n",
              "    <tr>\n",
              "      <th>8</th>\n",
              "      <td>-9.0</td>\n",
              "      <td>12.67</td>\n",
              "    </tr>\n",
              "    <tr>\n",
              "      <th>9</th>\n",
              "      <td>0.0</td>\n",
              "      <td>15.71</td>\n",
              "    </tr>\n",
              "    <tr>\n",
              "      <th>10</th>\n",
              "      <td>9.0</td>\n",
              "      <td>14.35</td>\n",
              "    </tr>\n",
              "    <tr>\n",
              "      <th>11</th>\n",
              "      <td>18.0</td>\n",
              "      <td>12.71</td>\n",
              "    </tr>\n",
              "    <tr>\n",
              "      <th>12</th>\n",
              "      <td>27.0</td>\n",
              "      <td>10.14</td>\n",
              "    </tr>\n",
              "    <tr>\n",
              "      <th>13</th>\n",
              "      <td>36.0</td>\n",
              "      <td>7.83</td>\n",
              "    </tr>\n",
              "    <tr>\n",
              "      <th>14</th>\n",
              "      <td>45.0</td>\n",
              "      <td>8.69</td>\n",
              "    </tr>\n",
              "    <tr>\n",
              "      <th>15</th>\n",
              "      <td>54.0</td>\n",
              "      <td>8.30</td>\n",
              "    </tr>\n",
              "    <tr>\n",
              "      <th>16</th>\n",
              "      <td>63.0</td>\n",
              "      <td>7.38</td>\n",
              "    </tr>\n",
              "    <tr>\n",
              "      <th>17</th>\n",
              "      <td>72.0</td>\n",
              "      <td>5.59</td>\n",
              "    </tr>\n",
              "    <tr>\n",
              "      <th>18</th>\n",
              "      <td>81.0</td>\n",
              "      <td>4.64</td>\n",
              "    </tr>\n",
              "    <tr>\n",
              "      <th>19</th>\n",
              "      <td>90.0</td>\n",
              "      <td>4.81</td>\n",
              "    </tr>\n",
              "  </tbody>\n",
              "</table>\n",
              "</div>"
            ],
            "text/plain": [
              "   Angle  goal_rate\n",
              "0  -81.0       7.52\n",
              "1  -72.0       5.17\n",
              "2  -63.0       6.27\n",
              "3  -54.0       7.27\n",
              "4  -45.0       8.68\n",
              "5  -36.0       9.07\n",
              "6  -27.0       8.44\n",
              "7  -18.0      10.06\n",
              "8   -9.0      12.67\n",
              "9    0.0      15.71\n",
              "10   9.0      14.35\n",
              "11  18.0      12.71\n",
              "12  27.0      10.14\n",
              "13  36.0       7.83\n",
              "14  45.0       8.69\n",
              "15  54.0       8.30\n",
              "16  63.0       7.38\n",
              "17  72.0       5.59\n",
              "18  81.0       4.64\n",
              "19  90.0       4.81"
            ]
          },
          "execution_count": 42,
          "metadata": {},
          "output_type": "execute_result"
        }
      ],
      "source": [
        "goals = copAngle.loc[copAngle['isGoal'] == 1].groupby('Angle').size().reset_index(name='goals')\n",
        "total_shots = copAngle.loc[copAngle['isGoal'] == 0].groupby('Angle').size().reset_index(name='total_shots')\n",
        "total_shots.drop(['Angle'], inplace=True, axis=1)\n",
        "\n",
        "goal_rate_angle = pd.concat([goals, total_shots], axis=1)\n",
        "goal_rate_angle['goal_rate'] = ((goal_rate_angle['goals'] / goal_rate_angle['total_shots'])*100).round(2)\n",
        "goal_rate_angle.drop(['goals', 'total_shots'], inplace=True, axis=1)\n",
        "goal_rate_angle"
      ]
    },
    {
      "cell_type": "code",
      "execution_count": 43,
      "metadata": {},
      "outputs": [
        {
          "data": {
            "text/plain": [
              "Text(0.5, 1.0, 'Goal rate vs Angle')"
            ]
          },
          "execution_count": 43,
          "metadata": {},
          "output_type": "execute_result"
        },
        {
          "data": {
            "image/png": "[encoded data removed]",
            "text/plain": [
              "<Figure size 640x480 with 1 Axes>"
            ]
          },
          "metadata": {},
          "output_type": "display_data"
        }
      ],
      "source": [
        "# Histogramme\n",
        "goal_rate_angle.plot(kind='bar', x='Angle', y= 'goal_rate', width=0.3)\n",
        "plt.xlabel(\"Angle\")\n",
        "plt.ylabel(\"Goal Rate\")\n",
        "plt.title(\"Goal rate vs Angle\")"
      ]
    },
    {
      "cell_type": "markdown",
      "metadata": {},
      "source": [
        "## Question 3"
      ]
    },
    {
      "cell_type": "code",
      "execution_count": 44,
      "metadata": {},
      "outputs": [
        {
          "data": {
            "text/html": [
              "<div>\n",
              "<style scoped>\n",
              "    .dataframe tbody tr th:only-of-type {\n",
              "        vertical-align: middle;\n",
              "    }\n",
              "\n",
              "    .dataframe tbody tr th {\n",
              "        vertical-align: top;\n",
              "    }\n",
              "\n",
              "    .dataframe thead th {\n",
              "        text-align: right;\n",
              "    }\n",
              "</style>\n",
              "<table border=\"1\" class=\"dataframe\">\n",
              "  <thead>\n",
              "    <tr style=\"text-align: right;\">\n",
              "      <th></th>\n",
              "      <th>empty_net</th>\n",
              "      <th>Dist</th>\n",
              "    </tr>\n",
              "  </thead>\n",
              "  <tbody>\n",
              "    <tr>\n",
              "      <th>1</th>\n",
              "      <td>0</td>\n",
              "      <td>19.766</td>\n",
              "    </tr>\n",
              "    <tr>\n",
              "      <th>7</th>\n",
              "      <td>0</td>\n",
              "      <td>29.150</td>\n",
              "    </tr>\n",
              "    <tr>\n",
              "      <th>17</th>\n",
              "      <td>0</td>\n",
              "      <td>19.766</td>\n",
              "    </tr>\n",
              "    <tr>\n",
              "      <th>21</th>\n",
              "      <td>0</td>\n",
              "      <td>19.766</td>\n",
              "    </tr>\n",
              "    <tr>\n",
              "      <th>29</th>\n",
              "      <td>0</td>\n",
              "      <td>19.766</td>\n",
              "    </tr>\n",
              "    <tr>\n",
              "      <th>...</th>\n",
              "      <td>...</td>\n",
              "      <td>...</td>\n",
              "    </tr>\n",
              "    <tr>\n",
              "      <th>332696</th>\n",
              "      <td>0</td>\n",
              "      <td>10.383</td>\n",
              "    </tr>\n",
              "    <tr>\n",
              "      <th>332706</th>\n",
              "      <td>0</td>\n",
              "      <td>10.383</td>\n",
              "    </tr>\n",
              "    <tr>\n",
              "      <th>332713</th>\n",
              "      <td>0</td>\n",
              "      <td>29.150</td>\n",
              "    </tr>\n",
              "    <tr>\n",
              "      <th>332732</th>\n",
              "      <td>0</td>\n",
              "      <td>29.150</td>\n",
              "    </tr>\n",
              "    <tr>\n",
              "      <th>332741</th>\n",
              "      <td>1</td>\n",
              "      <td>19.766</td>\n",
              "    </tr>\n",
              "  </tbody>\n",
              "</table>\n",
              "<p>31095 rows × 2 columns</p>\n",
              "</div>"
            ],
            "text/plain": [
              "        empty_net    Dist\n",
              "1               0  19.766\n",
              "7               0  29.150\n",
              "17              0  19.766\n",
              "21              0  19.766\n",
              "29              0  19.766\n",
              "...           ...     ...\n",
              "332696          0  10.383\n",
              "332706          0  10.383\n",
              "332713          0  29.150\n",
              "332732          0  29.150\n",
              "332741          1  19.766\n",
              "\n",
              "[31095 rows x 2 columns]"
            ]
          },
          "execution_count": 44,
          "metadata": {},
          "output_type": "execute_result"
        }
      ],
      "source": [
        "copyGoals = dataset.loc[dataset['isGoal'] == 1].filter(['distance', 'empty_net'])\n",
        "copyGoals['Dist'] = pd.cut(copyGoals['distance'], 20).apply(lambda x : x.right)\n",
        "copyGoals.drop('distance', inplace=True, axis=1)\n",
        "copyGoals.groupby('Dist').size().reset_index(name='count')\n",
        "copyGoals"
      ]
    },
    {
      "cell_type": "code",
      "execution_count": 45,
      "metadata": {},
      "outputs": [
        {
          "data": {
            "text/plain": [
              "<AxesSubplot: xlabel='Dist', ylabel='Count'>"
            ]
          },
          "execution_count": 45,
          "metadata": {},
          "output_type": "execute_result"
        },
        {
          "data": {
            "image/png": "[encoded data removed]",
            "text/plain": [
              "<Figure size 640x480 with 1 Axes>"
            ]
          },
          "metadata": {},
          "output_type": "display_data"
        }
      ],
      "source": [
        "# General view\n",
        "sns.histplot(data=copyGoals, x= \"Dist\", hue=\"empty_net\", multiple='dodge', element='bars', dodge=False)"
      ]
    },
    {
      "cell_type": "code",
      "execution_count": 46,
      "metadata": {},
      "outputs": [
        {
          "data": {
            "text/plain": [
              "(0.0, 4000.0)"
            ]
          },
          "execution_count": 46,
          "metadata": {},
          "output_type": "execute_result"
        },
        {
          "data": {
            "image/png": "[encoded data removed]",
            "text/plain": [
              "<Figure size 640x480 with 1 Axes>"
            ]
          },
          "metadata": {},
          "output_type": "display_data"
        }
      ],
      "source": [
        "# Closer view\n",
        "sns.histplot(data=copyGoals, x= \"Dist\", hue=\"empty_net\", multiple='dodge', element='bars', dodge=False)\n",
        "plt.xlim(0,70)\n",
        "plt.ylim(0,4000)"
      ]
    }
  ],
  "metadata": {
    "colab": {
      "provenance": []
    },
    "kernelspec": {
      "display_name": "Python 3.10.6 ('ift6758-conda-env')",
      "language": "python",
      "name": "python3"
    },
    "language_info": {
      "codemirror_mode": {
        "name": "ipython",
        "version": 3
      },
      "file_extension": ".py",
      "mimetype": "text/x-python",
      "name": "python",
      "nbconvert_exporter": "python",
      "pygments_lexer": "ipython3",
      "version": "3.10.6"
    },
    "vscode": {
      "interpreter": {
        "hash": "5f262dd534652fbc32981d407f1a3d24b53a7b4c10afd3815e5857e898a2e9de"
      }
    }
  },
  "nbformat": 4,
  "nbformat_minor": 0
}
