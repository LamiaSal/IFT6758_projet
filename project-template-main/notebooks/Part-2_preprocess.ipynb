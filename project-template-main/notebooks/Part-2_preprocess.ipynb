{
 "cells": [
  {
   "cell_type": "code",
   "execution_count": 1,
   "id": "bd17d290",
   "metadata": {},
   "outputs": [],
   "source": [
    "import pandas as pd\n",
    "import numpy as np\n",
    "from sklearn.preprocessing import StandardScaler"
   ]
  },
  {
   "cell_type": "code",
   "execution_count": 2,
   "id": "454b214e",
   "metadata": {},
   "outputs": [],
   "source": [
    "url = 'https://drive.google.com/file/d/1kM__riNHRPx5GsyuOH3yhiql3OZvwmuP/view?usp=sharing'\n",
    "path_tidy = 'https://drive.google.com/uc?export=download&id='+url.split('/')[-2]\n",
    "df = pd.read_csv(path_tidy)"
   ]
  },
  {
   "cell_type": "code",
   "execution_count": 3,
   "id": "ab4b262a",
   "metadata": {},
   "outputs": [],
   "source": [
    "from datetime import datetime as dt\n",
    "from datetime import timedelta \n",
    "def convert_to_float(X):\n",
    "    if X == \"Goal\":\n",
    "        return 1.0\n",
    "    else:\n",
    "        return 0.0\n",
    "def convert_to_total_seconds(X):\n",
    "    t_ = dt.strptime(X, '%M:%S')\n",
    "    delta = timedelta(minutes=t_.minute,seconds=t_.second)\n",
    "    return delta.total_seconds()\n",
    "\n",
    "def preprocess(df, features,standarize=False):\n",
    "    df_proc = df.copy()\n",
    "\n",
    "    # convert target into readable content for the models\n",
    "    df_proc['result_event']=df_proc['result_event'].apply(convert_to_float)\n",
    "    \n",
    "    # fille empty net nan by False\n",
    "    df_proc[\"empty_net\"].fillna(False,inplace=True)\n",
    "\n",
    "    # convert boolean data in 0 and 1\n",
    "    df_proc[\"empty_net\"]=df_proc[\"empty_net\"].map({True:1,False:0})\n",
    "    df_proc[\"rebound\"]=df_proc[\"rebound\"].map({True:1,False:0})\n",
    "    \n",
    "    # fill strength nan by 0 values\n",
    "    df_proc[\"strength\"].fillna(0.0,inplace=True)\n",
    "    df_proc = df_proc.dropna()\n",
    "\n",
    "    # define Y (the target)\n",
    "    Y = df_proc['result_event']\n",
    "\n",
    "    # Select features\n",
    "    df_proc = df_proc[features]\n",
    "\n",
    "    # convert periodTime in seconds\n",
    "    if 'periodTime' in features:\n",
    "        df_proc['periodTime']=df_proc['periodTime'].apply(convert_to_total_seconds)\n",
    "    \n",
    "    # one hot encoding of the shot_type\n",
    "    if 'shot_type' in features:\n",
    "        df_proc['shot_type'] = df_proc['shot_type'].dropna()\n",
    "        df_proc = pd.get_dummies(df_proc,columns=['shot_type'])    \n",
    "    \n",
    "    # one hot encoding of the last_event_type\n",
    "    if 'last_event_type' in features:\n",
    "        df_proc = pd.get_dummies(df_proc,columns=['last_event_type'])\n",
    "    \n",
    "    # define X and standardize it\n",
    "    X = df_proc\n",
    "    if standarize:\n",
    "        scaler = StandardScaler()\n",
    "        X = scaler.fit_transform(X)\n",
    "    \n",
    "    return X, Y.values,df_proc\n"
   ]
  },
  {
   "cell_type": "code",
   "execution_count": 4,
   "id": "7f734b67",
   "metadata": {},
   "outputs": [],
   "source": [
    "list_features = ['empty_net', 'periodTime','period', 'x_coord', 'y_coord','distance','angle','shot_type',\\\n",
    "    'last_event_type', 'last_x_coord', 'last_y_coord','distance_from_last', 'seconds_since_last', \\\n",
    "        'rebound', 'angle_change','speed']\n",
    "\n",
    "X, Y ,df_ =  preprocess(df,list_features,True)"
   ]
  },
  {
   "cell_type": "code",
   "execution_count": 5,
   "id": "e8e1c4ff",
   "metadata": {},
   "outputs": [
    {
     "data": {
      "text/plain": [
       "0"
      ]
     },
     "execution_count": 5,
     "metadata": {},
     "output_type": "execute_result"
    }
   ],
   "source": [
    "df_.isna().sum().sum()"
   ]
  },
  {
   "cell_type": "code",
   "execution_count": 6,
   "id": "94982b6e",
   "metadata": {},
   "outputs": [
    {
     "data": {
      "text/plain": [
       "391487"
      ]
     },
     "execution_count": 6,
     "metadata": {},
     "output_type": "execute_result"
    }
   ],
   "source": [
    "len(df_)"
   ]
  },
  {
   "cell_type": "code",
   "execution_count": 7,
   "id": "49c760d3",
   "metadata": {},
   "outputs": [
    {
     "name": "stdout",
     "output_type": "stream",
     "text": [
      "   empty_net  periodTime  period  x_coord  y_coord  distance  angle  \\\n",
      "0      False       False   False    False    False     False  False   \n",
      "1      False       False   False    False    False     False  False   \n",
      "2      False       False   False    False    False     False  False   \n",
      "3      False       False   False    False    False     False  False   \n",
      "4      False       False   False    False    False     False  False   \n",
      "\n",
      "   last_x_coord  last_y_coord  distance_from_last  ...  shot_type_Wrist Shot  \\\n",
      "0         False         False               False  ...                 False   \n",
      "1         False         False               False  ...                 False   \n",
      "2         False         False               False  ...                 False   \n",
      "3         False         False               False  ...                 False   \n",
      "4         False         False               False  ...                 False   \n",
      "\n",
      "   last_event_type_Blocked Shot  last_event_type_Faceoff  \\\n",
      "0                         False                    False   \n",
      "1                         False                    False   \n",
      "2                         False                    False   \n",
      "3                         False                    False   \n",
      "4                         False                    False   \n",
      "\n",
      "   last_event_type_Giveaway  last_event_type_Goal  last_event_type_Hit  \\\n",
      "0                     False                 False                False   \n",
      "1                     False                 False                False   \n",
      "2                     False                 False                False   \n",
      "3                     False                 False                False   \n",
      "4                     False                 False                False   \n",
      "\n",
      "   last_event_type_Missed Shot  last_event_type_Penalty  last_event_type_Shot  \\\n",
      "0                        False                    False                 False   \n",
      "1                        False                    False                 False   \n",
      "2                        False                    False                 False   \n",
      "3                        False                    False                 False   \n",
      "4                        False                    False                 False   \n",
      "\n",
      "   last_event_type_Takeaway  \n",
      "0                     False  \n",
      "1                     False  \n",
      "2                     False  \n",
      "3                     False  \n",
      "4                     False  \n",
      "\n",
      "[5 rows x 30 columns]\n"
     ]
    },
    {
     "data": {
      "text/plain": [
       "[]"
      ]
     },
     "execution_count": 7,
     "metadata": {},
     "output_type": "execute_result"
    }
   ],
   "source": [
    "print(df_.isna().head())\n",
    "df_.columns[df_.isna().any()].tolist()"
   ]
  },
  {
   "cell_type": "code",
   "execution_count": 8,
   "id": "9043c635",
   "metadata": {},
   "outputs": [
    {
     "data": {
      "text/plain": [
       "array([[-0.06834219, -1.43879981, -1.19771951, ..., -0.02930876,\n",
       "        -0.49355604, -0.27056453],\n",
       "       [-0.06834219, -1.35880762, -1.19771951, ..., -0.02930876,\n",
       "        -0.49355604, -0.27056453],\n",
       "       [-0.06834219, -1.32738212, -1.19771951, ..., -0.02930876,\n",
       "        -0.49355604, -0.27056453],\n",
       "       ...,\n",
       "       [-0.06834219,  1.28950529,  1.09080141, ..., -0.02930876,\n",
       "         2.02611238, -0.27056453],\n",
       "       [-0.06834219,  1.54090933,  1.09080141, ..., -0.02930876,\n",
       "        -0.49355604, -0.27056453],\n",
       "       [-0.06834219,  1.68089566,  1.09080141, ..., -0.02930876,\n",
       "        -0.49355604, -0.27056453]])"
      ]
     },
     "execution_count": 8,
     "metadata": {},
     "output_type": "execute_result"
    }
   ],
   "source": [
    "from sklearn.feature_selection import VarianceThreshold\n",
    "sel = VarianceThreshold(threshold=(.8 * (1 - .8)))\n",
    "sel.fit_transform(X)"
   ]
  }
 ],
 "metadata": {
  "kernelspec": {
   "display_name": "ift6758-conda-env",
   "language": "python",
   "name": "ift6758-conda-env"
  },
  "language_info": {
   "codemirror_mode": {
    "name": "ipython",
    "version": 3
   },
   "file_extension": ".py",
   "mimetype": "text/x-python",
   "name": "python",
   "nbconvert_exporter": "python",
   "pygments_lexer": "ipython3",
   "version": "3.10.6"
  }
 },
 "nbformat": 4,
 "nbformat_minor": 5
}
