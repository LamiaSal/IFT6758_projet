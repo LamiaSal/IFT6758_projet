{
 "cells": [
  {
   "cell_type": "code",
   "execution_count": 115,
   "id": "0c6e1b4d",
   "metadata": {},
   "outputs": [],
   "source": [
    "import ipywidgets\n",
    "import pandas as pd\n",
    "from PIL import Image\n",
    "import matplotlib\n",
    "import matplotlib.pyplot as plt\n",
    "from mpl_toolkits.axes_grid1 import AxesGrid\n",
    "from ipywidgets import interact, Dropdown, IntSlider,Label\n",
    "from IPython.display import display, clear_output"
   ]
  },
  {
   "cell_type": "code",
   "execution_count": 39,
   "id": "36276e90",
   "metadata": {},
   "outputs": [],
   "source": [
    "df = pd.read_csv('../datasets/tidy_data.csv')"
   ]
  },
  {
   "cell_type": "code",
   "execution_count": 160,
   "id": "37d6be93",
   "metadata": {},
   "outputs": [],
   "source": [
    "def get_games_info(season_df,type_game):\n",
    "    df = season_df[season_df['type_season']==type_game]\n",
    "    ids = pd.unique(df['id_game']).tolist()\n",
    "    d = dict()\n",
    "    for id in ids:\n",
    "         \n",
    "        d[id]=dict()\n",
    "        game_df = df[df['id_game']==id]\n",
    "        d[id]['home'] = game_df.iloc[0]['team_home_name']\n",
    "        d[id]['away'] = game_df.iloc[0]['team_away_name']\n",
    "        event_ids = pd.unique(game_df['event_Idx']).tolist()\n",
    "        for event_id in event_ids:\n",
    "            event = game_df[df['event_Idx']==event_id]\n",
    "            event_dict =dict()\n",
    "            event_dict['shot_type'] = event['shot_type'].values[0]\n",
    "            event_dict['is_goal'] = event['result_event'].values[0] == 'Goal'\n",
    "            event_dict['player'] = event['shooter_name'].values[0]\n",
    "            event_dict['x'] = event['x_coord'].values[0]\n",
    "            event_dict['y'] = event['y_coord'].values[0]\n",
    "            d[id][event_id] = event_dict     \n",
    "    return d"
   ]
  },
  {
   "cell_type": "code",
   "execution_count": 161,
   "id": "1f58fbba",
   "metadata": {},
   "outputs": [
    {
     "name": "stderr",
     "output_type": "stream",
     "text": [
      "C:\\Users\\xavie\\AppData\\Local\\Temp\\ipykernel_30448\\3609880968.py:13: UserWarning: Boolean Series key will be reindexed to match DataFrame index.\n",
      "  event = game_df[df['event_Idx']==event_id]\n"
     ]
    }
   ],
   "source": [
    "teams = pd.unique(df['team_away_name']).tolist()\n",
    "seasons = pd.unique(df['season']).tolist()\n",
    "seasons = [20162017]\n",
    "d = dict()\n",
    "for season in seasons:\n",
    "    season_df = df[df['season']==season]\n",
    "    d[season] = dict()\n",
    "    d[season]['playoffs']=get_games_info(season_df,'playoffs')\n",
    "    d[season]['regular season']=get_games_info(season_df,'regular_season') \n",
    "    \n",
    "            \n"
   ]
  },
  {
   "cell_type": "code",
   "execution_count": 162,
   "id": "18041ac1",
   "metadata": {},
   "outputs": [
    {
     "data": {
      "application/vnd.jupyter.widget-view+json": {
       "model_id": "7eeb29e96d7e4537a1bf273755b865db",
       "version_major": 2,
       "version_minor": 0
      },
      "text/plain": [
       "interactive(children=(Dropdown(description='season', options=(20162017,), value=20162017), Dropdown(descriptio…"
      ]
     },
     "metadata": {},
     "output_type": "display_data"
    }
   ],
   "source": [
    "season =  20162017\n",
    "seasonW = Dropdown(options = seasons, value = season)\n",
    "\n",
    "game_typeW = Dropdown(options=['playoffs','regular season'], value = 'regular season')\n",
    "game_type = 'regular season' \n",
    "games = sorted(d[season][game_type].keys())\n",
    "game = games[0]\n",
    "events_keys = list(d[season][game_type][game].keys())\n",
    "events_keys.remove('home')\n",
    "events_keys.remove('away')\n",
    "events =sorted(events_keys)\n",
    "event = events[0]\n",
    "\n",
    "gameW = Dropdown(options = games,value=game)\n",
    "eventW = Dropdown(options = events,value=event)\n",
    "\n",
    "\n",
    "@interact(season = seasonW,game_type = game_typeW,game = gameW,event=eventW)\n",
    "def plot(season,game_type,game,event):\n",
    "    \n",
    "    games = sorted(d[season][game_type].keys())\n",
    "    gameW.options = games\n",
    "    if not game in games:\n",
    "        game = games[0]\n",
    "        gameW.value = game\n",
    "   \n",
    "    events_keys = list(d[season][game_type][game].keys())\n",
    "    events_keys.remove('home')\n",
    "    events_keys.remove('away')\n",
    "    events = sorted(events_keys)\n",
    "    eventW.options = events\n",
    "    if not event in events:\n",
    "        event = events[0]\n",
    "        eventW.value = event\n",
    "    \n",
    "   \n",
    "    fig, ax = plt.subplots()\n",
    "    img = plt.imread(\"../figures/nhl_rink.png\")\n",
    "    ax.imshow(img, extent=[-100, 100, -50, 50])\n",
    "    \n",
    "    season_title = f'{str(season)[:4]}-{str(season)[4:]}'\n",
    "    home = d[season][game_type][game]['home']\n",
    "    away = d[season][game_type][game]['away']\n",
    "    plt.suptitle(f'{season_title}\\n\\n{home} VS {away}')\n",
    "    \n",
    "    shot_type = d[season][game_type][game][event]['shot_type']\n",
    "    isGoal = d[season][game_type][game][event]['is_goal']\n",
    "    player = d[season][game_type][game][event]['player']\n",
    "    \n",
    "   \n",
    "    if isGoal:  \n",
    "        plt.title(f'A {shot_type} of {player}: GOAL!')\n",
    "    else:\n",
    "        plt.title(f'A {shot_type} of {player}: Missed')   \n",
    "   \n",
    "    \n",
    "    x = d[season][game_type][game][event]['x']\n",
    "    y = d[season][game_type][game][event]['y']\n",
    "    ax.scatter(x, y, marker='o', color='r', label='point')\n",
    "    \n",
    "    clear_output(wait=True)"
   ]
  }
 ],
 "metadata": {
  "kernelspec": {
   "display_name": "ift6758-conda-env",
   "language": "python",
   "name": "ift6758-conda-env"
  },
  "language_info": {
   "codemirror_mode": {
    "name": "ipython",
    "version": 3
   },
   "file_extension": ".py",
   "mimetype": "text/x-python",
   "name": "python",
   "nbconvert_exporter": "python",
   "pygments_lexer": "ipython3",
   "version": "3.10.6"
  }
 },
 "nbformat": 4,
 "nbformat_minor": 5
}
