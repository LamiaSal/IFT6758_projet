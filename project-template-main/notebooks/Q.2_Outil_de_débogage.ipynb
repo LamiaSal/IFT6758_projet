{
 "cells": [
  {
   "cell_type": "code",
   "execution_count": 1,
   "id": "66a1a8a1",
   "metadata": {},
   "outputs": [],
   "source": [
    "#import ipywidgets\n",
    "import pandas as pd\n",
    "import matplotlib.pyplot as plt\n",
    "from ipywidgets import interact, Dropdown, IntSlider\n",
    "from IPython.display import clear_output"
   ]
  },
  {
   "cell_type": "code",
   "execution_count": 2,
   "id": "f16a9990",
   "metadata": {},
   "outputs": [],
   "source": [
    "url = 'https://drive.google.com/file/d/1kM__riNHRPx5GsyuOH3yhiql3OZvwmuP/view?usp=sharing'\n",
    "path_tidy = 'https://drive.google.com/uc?export=download&id='+url.split('/')[-2]\n",
    "df = pd.read_csv(path_tidy)"
   ]
  },
  {
   "cell_type": "code",
   "execution_count": 12,
   "id": "aa872b9e",
   "metadata": {},
   "outputs": [
    {
     "data": {
      "text/html": [
       "<div>\n",
       "<style scoped>\n",
       "    .dataframe tbody tr th:only-of-type {\n",
       "        vertical-align: middle;\n",
       "    }\n",
       "\n",
       "    .dataframe tbody tr th {\n",
       "        vertical-align: top;\n",
       "    }\n",
       "\n",
       "    .dataframe thead th {\n",
       "        text-align: right;\n",
       "    }\n",
       "</style>\n",
       "<table border=\"1\" class=\"dataframe\">\n",
       "  <thead>\n",
       "    <tr style=\"text-align: right;\">\n",
       "      <th></th>\n",
       "      <th></th>\n",
       "      <th>&lt;!DOCTYPE html&gt;&lt;html&gt;&lt;head&gt;&lt;title&gt;Google Drive - Virus scan warning&lt;/title&gt;&lt;meta http-equiv=\"content-type\" content=\"text/html; charset=utf-8\"/&gt;&lt;style nonce=\"jyiNdOMesQllkQnc0RS3xA\"&gt;/* Copyright 2022 Google Inc. All Rights Reserved. */</th>\n",
       "    </tr>\n",
       "  </thead>\n",
       "  <tbody>\n",
       "    <tr>\n",
       "      <th>.goog-inline-block{position:relative;display:-moz-inline-box;display:inline-block}* html .goog-inline-block{display:inline}*:first-child+html .goog-inline-block{display:inline}.goog-link-button{position:relative;color:#15c;text-decoration:underline;cursor:pointer}.goog-link-button-disabled{color:#ccc;text-decoration:none;cursor:default}body{color:#222;font:normal 13px/1.4 arial</th>\n",
       "      <th>sans-serif;margin:0}.grecaptcha-badge{visibility:hidden}.uc-main{padding-top:50px;text-align:center}#uc-dl-icon{display:inline-block;margin-top:16px;padding-right:1em;vertical-align:top}#uc-text{display:inline-block;max-width:68ex;text-align:left}.uc-error-caption</th>\n",
       "      <td>.uc-warning-caption{color:#222;font-size:16px}...</td>\n",
       "    </tr>\n",
       "  </tbody>\n",
       "</table>\n",
       "</div>"
      ],
      "text/plain": [
       "                                                                                                      <!DOCTYPE html><html><head><title>Google Drive - Virus scan warning</title><meta http-equiv=\"content-type\" content=\"text/html; charset=utf-8\"/><style nonce=\"jyiNdOMesQllkQnc0RS3xA\">/* Copyright 2022 Google Inc. All Rights Reserved. */\n",
       ".goog-inline-block{position:relative;display:-m... sans-serif;margin:0}.grecaptcha-badge{visibilit...  .uc-warning-caption{color:#222;font-size:16px}...                                                                                                                                                                                        "
      ]
     },
     "execution_count": 12,
     "metadata": {},
     "output_type": "execute_result"
    }
   ],
   "source": [
    "df.head()"
   ]
  },
  {
   "cell_type": "code",
   "execution_count": 4,
   "id": "775d9696",
   "metadata": {},
   "outputs": [
    {
     "data": {
      "application/vnd.jupyter.widget-view+json": {
       "model_id": "71ffb20136514ecda1b006cbdbe5c65e",
       "version_major": 2,
       "version_minor": 0
      },
      "text/plain": [
       "interactive(children=(Dropdown(description='season', index=4, options=(20172018, 20192020, 20202021, 20182019,…"
      ]
     },
     "metadata": {},
     "output_type": "display_data"
    }
   ],
   "source": [
    "#SET DEFAULT VALUES\n",
    "season =  20162017\n",
    "seasonW = Dropdown(options = df['season'].unique(), value = season)\n",
    "\n",
    "game_type = 'regular_season'\n",
    "game_typeW = Dropdown(options=['playoffs','regular_season'], value = game_type)\n",
    " \n",
    "games = df[(df['season']==season) & (df['type_season']==game_type)]['id_game'].unique()\n",
    "gameW = IntSlider(value = 0,min=0,max=len(games)-1,continuous_update=False)\n",
    "\n",
    "events = df[(df['season']==season) & (df['type_season']==game_type) & (df['id_game']==games[0])]\n",
    "eventW = IntSlider(value = 0,min=0,max=len(events)-1,continuous_update=False)\n",
    "\n",
    "#INTERACTIF DEBUGGER\n",
    "@interact(season = seasonW,game_type = game_typeW,game = gameW,event=eventW)\n",
    "def debugger(season,game_type,game,event):\n",
    "    \n",
    "    #RESET GAMES\n",
    "    games = df[(df['season']==season) & (df['type_season']==game_type)]['id_game'].unique()\n",
    "    gameW.max = len(games) - 1\n",
    "    \n",
    "    if game > len(games):\n",
    "        game = 0\n",
    "        gameW.value = 0\n",
    "        \n",
    "    #RESET EVENTS\n",
    "    events = df[(df['season']==season) & (df['type_season']==game_type) & (df['id_game']==games[game])]\n",
    "    eventW.max =  len(events) - 1\n",
    "    \n",
    "    if event >  len(events):\n",
    "        event = 0\n",
    "        eventW.value = 0\n",
    "        \n",
    "    #GET INFO FOR THIS PARTICULAR EVENT\n",
    "    event_infos = events.iloc[event]\n",
    "    \n",
    "    #PLOT BACKGROUND IMAGE\n",
    "    fig, ax = plt.subplots()\n",
    "    img = plt.imread(\"../figures/nhl_rink.png\")\n",
    "    ax.imshow(img, extent=[-100, 100, -43, 43])\n",
    "    \n",
    "    #SUPTITLE\n",
    "    season_title = f'{str(season)[:4]}-{str(season)[4:]}'\n",
    "    home = event_infos['team_home_name']\n",
    "    away = event_infos['team_away_name']\n",
    "   \n",
    "    plt.suptitle(f'{season_title}\\n\\n{home} VS {away}')\n",
    "    \n",
    "    #TITLE\n",
    "    shot_type =  event_infos['shot_type']\n",
    "    event_type =  event_infos['result_event']\n",
    "    player =  event_infos['shooter_name']\n",
    "     \n",
    "    plt.title(f'A {shot_type} of {player}: {event_type}')\n",
    "   \n",
    "   \n",
    "    #PLOT POINT AT THE LOCATION OF THE EVENT\n",
    "    x =  event_infos['x_coord']\n",
    "    y =  event_infos['y_coord']\n",
    "    ax.scatter(x, y, marker='o', color='r', label='point')\n",
    "    \n",
    "    #REMOVE PAST PLOTS IF ANY\n",
    "    clear_output(wait=True)"
   ]
  }
 ],
 "metadata": {
  "kernelspec": {
   "display_name": "ift6758-conda-env",
   "language": "python",
   "name": "ift6758-conda-env"
  },
  "language_info": {
   "codemirror_mode": {
    "name": "ipython",
    "version": 3
   },
   "file_extension": ".py",
   "mimetype": "text/x-python",
   "name": "python",
   "nbconvert_exporter": "python",
   "pygments_lexer": "ipython3",
   "version": "3.10.6"
  }
 },
 "nbformat": 4,
 "nbformat_minor": 5
}
