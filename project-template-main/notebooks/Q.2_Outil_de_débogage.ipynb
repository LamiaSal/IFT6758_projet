{
 "cells": [
  {
   "cell_type": "code",
   "execution_count": 1,
   "id": "bb4da4fd",
   "metadata": {},
   "outputs": [],
   "source": [
    "#import ipywidgets\n",
    "import pandas as pd\n",
    "import matplotlib.pyplot as plt\n",
    "from ipywidgets import interact, Dropdown, IntSlider\n",
    "from IPython.display import clear_output"
   ]
  },
  {
   "cell_type": "code",
   "execution_count": 2,
   "id": "56ebb330",
   "metadata": {},
   "outputs": [],
   "source": [
    "df = pd.read_csv('../datasets/tidy_data.csv')"
   ]
  },
  {
   "cell_type": "code",
   "execution_count": 3,
   "id": "de53dd22",
   "metadata": {},
   "outputs": [
    {
     "data": {
      "application/vnd.jupyter.widget-view+json": {
       "model_id": "e6e07685aeac4032b496bf92430fe68d",
       "version_major": 2,
       "version_minor": 0
      },
      "text/plain": [
       "interactive(children=(Dropdown(description='season', options=(20162017, 20172018, 20182019, 20192020, 20202021…"
      ]
     },
     "metadata": {},
     "output_type": "display_data"
    }
   ],
   "source": [
    "#SET DEFAULT VALUES\n",
    "season =  20162017\n",
    "seasonW = Dropdown(options = df['season'].unique(), value = season)\n",
    "\n",
    "game_type = 'regular_season'\n",
    "game_typeW = Dropdown(options=['playoffs','regular_season'], value = game_type)\n",
    " \n",
    "games = df[(df['season']==season) & (df['type_season']==game_type)]['id_game'].unique()\n",
    "gameW = IntSlider(value = 0,min=0,max=len(games)-1,continuous_update=False)\n",
    "\n",
    "\n",
    "events = df[(df['season']==season) & (df['type_season']==game_type) & (df['id_game']==games[0])]\n",
    "eventW = IntSlider(value = 0,min=0,max=len(events)-1,continuous_update=False)\n",
    "\n",
    "#Plot Debugger\n",
    "@interact(season = seasonW,game_type = game_typeW,game = gameW,event=eventW)\n",
    "def debugger(season,game_type,game,event):\n",
    "    \n",
    "    games = df[(df['season']==season) & (df['type_season']==game_type)]['id_game'].unique()\n",
    "    gameW.max = len(games) - 1\n",
    "    \n",
    "    if game > len(games):\n",
    "        game = 0\n",
    "        gameW.value = 0\n",
    "    \n",
    "    events = df[(df['season']==season) & (df['type_season']==game_type) & (df['id_game']==games[game])]\n",
    "    eventW.max =  len(events) - 1\n",
    "    \n",
    "    if event >  len(events):\n",
    "        event = 0\n",
    "        eventW.value = 0\n",
    "    \n",
    "    event_infos = events.iloc[event]\n",
    "    \n",
    "    fig, ax = plt.subplots()\n",
    "    img = plt.imread(\"../figures/nhl_rink.png\")\n",
    "    ax.imshow(img, extent=[-100, 100, -43, 43])\n",
    "    \n",
    "    season_title = f'{str(season)[:4]}-{str(season)[4:]}'\n",
    "    home = event_infos['team_home_name']\n",
    "    away = event_infos['team_away_name']\n",
    "    plt.suptitle(f'{season_title}\\n\\n{home} VS {away}')\n",
    "    \n",
    "    \n",
    "    shot_type =  event_infos['shot_type']\n",
    "    event_type =  event_infos['result_event']\n",
    "    player =  event_infos['shooter_name']\n",
    "    \n",
    "   \n",
    "     \n",
    "    plt.title(f'A {shot_type} of {player}: {event_type}')\n",
    "   \n",
    "   \n",
    "    \n",
    "    x =  event_infos['x_coord']\n",
    "    y =  event_infos['y_coord']\n",
    "    ax.scatter(x, y, marker='o', color='r', label='point')\n",
    "    \n",
    "    clear_output(wait=True)"
   ]
  }
 ],
 "metadata": {
  "kernelspec": {
   "display_name": "ift6758-conda-env",
   "language": "python",
   "name": "ift6758-conda-env"
  },
  "language_info": {
   "codemirror_mode": {
    "name": "ipython",
    "version": 3
   },
   "file_extension": ".py",
   "mimetype": "text/x-python",
   "name": "python",
   "nbconvert_exporter": "python",
   "pygments_lexer": "ipython3",
   "version": "3.10.6"
  }
 },
 "nbformat": 4,
 "nbformat_minor": 5
}
